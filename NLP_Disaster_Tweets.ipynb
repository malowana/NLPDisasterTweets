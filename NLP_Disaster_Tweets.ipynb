{
  "nbformat": 4,
  "nbformat_minor": 0,
  "metadata": {
    "colab": {
      "name": "NLP Disaster Tweets.ipynb",
      "provenance": [],
      "mount_file_id": "1dK_MNq7y0n-tIdhRbIWYv57CF9ZQ-hJi",
      "authorship_tag": "ABX9TyMc/K48mbPd2apvdY38Z+PS",
      "include_colab_link": true
    },
    "kernelspec": {
      "name": "python3",
      "display_name": "Python 3"
    },
    "accelerator": "GPU"
  },
  "cells": [
    {
      "cell_type": "markdown",
      "metadata": {
        "id": "view-in-github",
        "colab_type": "text"
      },
      "source": [
        "<a href=\"https://colab.research.google.com/github/malowana/NLPDisasterTweets/blob/main/NLP_Disaster_Tweets.ipynb\" target=\"_parent\"><img src=\"https://colab.research.google.com/assets/colab-badge.svg\" alt=\"Open In Colab\"/></a>"
      ]
    },
    {
      "cell_type": "code",
      "metadata": {
        "id": "-QQtsLLE8zSK"
      },
      "source": [
        "import pandas as pd\r\n",
        "import numpy as np"
      ],
      "execution_count": 3,
      "outputs": []
    },
    {
      "cell_type": "code",
      "metadata": {
        "colab": {
          "base_uri": "https://localhost:8080/"
        },
        "id": "plQy64N69MdD",
        "outputId": "4e2dbadd-2f64-46ec-e20e-b0ba6e4e34f7"
      },
      "source": [
        "cd '/content/drive/My Drive/Konkursy Kaggle/Disaster Tweets'"
      ],
      "execution_count": 4,
      "outputs": [
        {
          "output_type": "stream",
          "text": [
            "/content/drive/My Drive/Konkursy Kaggle/Disaster Tweets\n"
          ],
          "name": "stdout"
        }
      ]
    },
    {
      "cell_type": "markdown",
      "metadata": {
        "id": "4zpl69LsRGH0"
      },
      "source": [
        "Data taken from https://www.kaggle.com/c/nlp-getting-started/data\r\n"
      ]
    },
    {
      "cell_type": "code",
      "metadata": {
        "id": "i1yXq8gB9aq-"
      },
      "source": [
        "train = pd.read_csv('/content/drive/My Drive/Konkursy Kaggle/Disaster Tweets/train.csv').reset_index(drop=True)\r\n",
        "test = pd.read_csv('/content/drive/My Drive/Konkursy Kaggle/Disaster Tweets/test.csv').reset_index(drop=True)"
      ],
      "execution_count": 70,
      "outputs": []
    },
    {
      "cell_type": "code",
      "metadata": {
        "colab": {
          "base_uri": "https://localhost:8080/",
          "height": 359
        },
        "id": "LIrIw-bO9ilQ",
        "outputId": "9dd69f28-7b0a-4575-d186-bde80fac54ea"
      },
      "source": [
        "train.sample(10)"
      ],
      "execution_count": 71,
      "outputs": [
        {
          "output_type": "execute_result",
          "data": {
            "text/html": [
              "<div>\n",
              "<style scoped>\n",
              "    .dataframe tbody tr th:only-of-type {\n",
              "        vertical-align: middle;\n",
              "    }\n",
              "\n",
              "    .dataframe tbody tr th {\n",
              "        vertical-align: top;\n",
              "    }\n",
              "\n",
              "    .dataframe thead th {\n",
              "        text-align: right;\n",
              "    }\n",
              "</style>\n",
              "<table border=\"1\" class=\"dataframe\">\n",
              "  <thead>\n",
              "    <tr style=\"text-align: right;\">\n",
              "      <th></th>\n",
              "      <th>id</th>\n",
              "      <th>keyword</th>\n",
              "      <th>location</th>\n",
              "      <th>text</th>\n",
              "      <th>target</th>\n",
              "    </tr>\n",
              "  </thead>\n",
              "  <tbody>\n",
              "    <tr>\n",
              "      <th>4758</th>\n",
              "      <td>6769</td>\n",
              "      <td>lightning</td>\n",
              "      <td>Rotterdam, The Netherlands</td>\n",
              "      <td>@Benji_Devos thanks thanks :3</td>\n",
              "      <td>0</td>\n",
              "    </tr>\n",
              "    <tr>\n",
              "      <th>1852</th>\n",
              "      <td>2663</td>\n",
              "      <td>crush</td>\n",
              "      <td>NaN</td>\n",
              "      <td>Being bestfriends with your high school crush?...</td>\n",
              "      <td>0</td>\n",
              "    </tr>\n",
              "    <tr>\n",
              "      <th>2300</th>\n",
              "      <td>3300</td>\n",
              "      <td>demolish</td>\n",
              "      <td>sweden</td>\n",
              "      <td>I added a video to a @YouTube playlist http://...</td>\n",
              "      <td>0</td>\n",
              "    </tr>\n",
              "    <tr>\n",
              "      <th>1978</th>\n",
              "      <td>2846</td>\n",
              "      <td>cyclone</td>\n",
              "      <td>Geneva</td>\n",
              "      <td>Blending the old with the new in #Vanuatu to p...</td>\n",
              "      <td>0</td>\n",
              "    </tr>\n",
              "    <tr>\n",
              "      <th>5687</th>\n",
              "      <td>8116</td>\n",
              "      <td>rescued</td>\n",
              "      <td>southern california</td>\n",
              "      <td>A brave little dog gets rescued from the river...</td>\n",
              "      <td>0</td>\n",
              "    </tr>\n",
              "    <tr>\n",
              "      <th>6178</th>\n",
              "      <td>8812</td>\n",
              "      <td>sirens</td>\n",
              "      <td>they/them</td>\n",
              "      <td>'I know a dill pickle when I taste one' -me</td>\n",
              "      <td>0</td>\n",
              "    </tr>\n",
              "    <tr>\n",
              "      <th>2622</th>\n",
              "      <td>3763</td>\n",
              "      <td>destruction</td>\n",
              "      <td>Houston, TX</td>\n",
              "      <td>REPUBLICAN STYLED ECONOMIC DESTRUCTION | Under...</td>\n",
              "      <td>0</td>\n",
              "    </tr>\n",
              "    <tr>\n",
              "      <th>4771</th>\n",
              "      <td>6789</td>\n",
              "      <td>lightning</td>\n",
              "      <td>Reddit</td>\n",
              "      <td>Lightning strike in the distance via /r/pics h...</td>\n",
              "      <td>1</td>\n",
              "    </tr>\n",
              "    <tr>\n",
              "      <th>6411</th>\n",
              "      <td>9166</td>\n",
              "      <td>suicide%20bomber</td>\n",
              "      <td>NaN</td>\n",
              "      <td>Suicide bomber kills 15 in Saudi security site...</td>\n",
              "      <td>1</td>\n",
              "    </tr>\n",
              "    <tr>\n",
              "      <th>3327</th>\n",
              "      <td>4766</td>\n",
              "      <td>evacuated</td>\n",
              "      <td>Gold Coast</td>\n",
              "      <td>Powerlines down over tram on GC Highway. Passe...</td>\n",
              "      <td>1</td>\n",
              "    </tr>\n",
              "  </tbody>\n",
              "</table>\n",
              "</div>"
            ],
            "text/plain": [
              "        id  ... target\n",
              "4758  6769  ...      0\n",
              "1852  2663  ...      0\n",
              "2300  3300  ...      0\n",
              "1978  2846  ...      0\n",
              "5687  8116  ...      0\n",
              "6178  8812  ...      0\n",
              "2622  3763  ...      0\n",
              "4771  6789  ...      1\n",
              "6411  9166  ...      1\n",
              "3327  4766  ...      1\n",
              "\n",
              "[10 rows x 5 columns]"
            ]
          },
          "metadata": {
            "tags": []
          },
          "execution_count": 71
        }
      ]
    },
    {
      "cell_type": "markdown",
      "metadata": {
        "id": "Vc-34-yF-xPL"
      },
      "source": [
        "Check if there are missing values and fill it"
      ]
    },
    {
      "cell_type": "code",
      "metadata": {
        "colab": {
          "base_uri": "https://localhost:8080/"
        },
        "id": "GAIzdswV9v7w",
        "outputId": "c6b6445a-41a5-42e5-b9c6-f8fab48e2a27"
      },
      "source": [
        "def is_missing(train):\r\n",
        "  for column in train.columns:\r\n",
        "      missing = column, train[column].isnull().sum()\r\n",
        "      if missing[1] == 0: continue\r\n",
        "      print(missing)\r\n",
        "\r\n",
        "is_missing(train)\r\n",
        "is_missing(test)"
      ],
      "execution_count": 72,
      "outputs": [
        {
          "output_type": "stream",
          "text": [
            "('keyword', 61)\n",
            "('location', 2533)\n",
            "('keyword', 26)\n",
            "('location', 1105)\n"
          ],
          "name": "stdout"
        }
      ]
    },
    {
      "cell_type": "code",
      "metadata": {
        "id": "KyhaW5jd-W7V"
      },
      "source": [
        "train = train.fillna(\"other\")\r\n",
        "test = test.fillna(\"other\")"
      ],
      "execution_count": 73,
      "outputs": []
    },
    {
      "cell_type": "code",
      "metadata": {
        "id": "ORj2Vl7g_B0M"
      },
      "source": [
        "#concatenate the subsets\r\n",
        "all = pd.concat([train, test], sort=False)"
      ],
      "execution_count": 74,
      "outputs": []
    },
    {
      "cell_type": "code",
      "metadata": {
        "colab": {
          "base_uri": "https://localhost:8080/",
          "height": 204
        },
        "id": "KI1hxgsC_DZ7",
        "outputId": "4c5bb135-156b-48fc-eb64-524d6db7f550"
      },
      "source": [
        "all.head()"
      ],
      "execution_count": 75,
      "outputs": [
        {
          "output_type": "execute_result",
          "data": {
            "text/html": [
              "<div>\n",
              "<style scoped>\n",
              "    .dataframe tbody tr th:only-of-type {\n",
              "        vertical-align: middle;\n",
              "    }\n",
              "\n",
              "    .dataframe tbody tr th {\n",
              "        vertical-align: top;\n",
              "    }\n",
              "\n",
              "    .dataframe thead th {\n",
              "        text-align: right;\n",
              "    }\n",
              "</style>\n",
              "<table border=\"1\" class=\"dataframe\">\n",
              "  <thead>\n",
              "    <tr style=\"text-align: right;\">\n",
              "      <th></th>\n",
              "      <th>id</th>\n",
              "      <th>keyword</th>\n",
              "      <th>location</th>\n",
              "      <th>text</th>\n",
              "      <th>target</th>\n",
              "    </tr>\n",
              "  </thead>\n",
              "  <tbody>\n",
              "    <tr>\n",
              "      <th>0</th>\n",
              "      <td>1</td>\n",
              "      <td>other</td>\n",
              "      <td>other</td>\n",
              "      <td>Our Deeds are the Reason of this #earthquake M...</td>\n",
              "      <td>1.0</td>\n",
              "    </tr>\n",
              "    <tr>\n",
              "      <th>1</th>\n",
              "      <td>4</td>\n",
              "      <td>other</td>\n",
              "      <td>other</td>\n",
              "      <td>Forest fire near La Ronge Sask. Canada</td>\n",
              "      <td>1.0</td>\n",
              "    </tr>\n",
              "    <tr>\n",
              "      <th>2</th>\n",
              "      <td>5</td>\n",
              "      <td>other</td>\n",
              "      <td>other</td>\n",
              "      <td>All residents asked to 'shelter in place' are ...</td>\n",
              "      <td>1.0</td>\n",
              "    </tr>\n",
              "    <tr>\n",
              "      <th>3</th>\n",
              "      <td>6</td>\n",
              "      <td>other</td>\n",
              "      <td>other</td>\n",
              "      <td>13,000 people receive #wildfires evacuation or...</td>\n",
              "      <td>1.0</td>\n",
              "    </tr>\n",
              "    <tr>\n",
              "      <th>4</th>\n",
              "      <td>7</td>\n",
              "      <td>other</td>\n",
              "      <td>other</td>\n",
              "      <td>Just got sent this photo from Ruby #Alaska as ...</td>\n",
              "      <td>1.0</td>\n",
              "    </tr>\n",
              "  </tbody>\n",
              "</table>\n",
              "</div>"
            ],
            "text/plain": [
              "   id keyword  ...                                               text target\n",
              "0   1   other  ...  Our Deeds are the Reason of this #earthquake M...    1.0\n",
              "1   4   other  ...             Forest fire near La Ronge Sask. Canada    1.0\n",
              "2   5   other  ...  All residents asked to 'shelter in place' are ...    1.0\n",
              "3   6   other  ...  13,000 people receive #wildfires evacuation or...    1.0\n",
              "4   7   other  ...  Just got sent this photo from Ruby #Alaska as ...    1.0\n",
              "\n",
              "[5 rows x 5 columns]"
            ]
          },
          "metadata": {
            "tags": []
          },
          "execution_count": 75
        }
      ]
    },
    {
      "cell_type": "markdown",
      "metadata": {
        "id": "M_4RZOqyPUT0"
      },
      "source": [
        "Data cleanup"
      ]
    },
    {
      "cell_type": "code",
      "metadata": {
        "colab": {
          "base_uri": "https://localhost:8080/"
        },
        "id": "e3D2vZ_B_V9T",
        "outputId": "715aed9a-e716-4542-e190-1f2a584236d2"
      },
      "source": [
        "all.keyword.value_counts()"
      ],
      "execution_count": 76,
      "outputs": [
        {
          "output_type": "execute_result",
          "data": {
            "text/plain": [
              "other                    87\n",
              "catastrophe              50\n",
              "screamed                 50\n",
              "blizzard                 50\n",
              "hazardous                50\n",
              "                         ..\n",
              "forest%20fire            24\n",
              "threat                   16\n",
              "radiation%20emergency    14\n",
              "inundation               14\n",
              "epicentre                13\n",
              "Name: keyword, Length: 222, dtype: int64"
            ]
          },
          "metadata": {
            "tags": []
          },
          "execution_count": 76
        }
      ]
    },
    {
      "cell_type": "code",
      "metadata": {
        "id": "U09gYcDc_2Tp"
      },
      "source": [
        "#keywords\r\n",
        "all.loc[all['keyword'].str.contains('murder|bag'), 'keyword'] = 'murder'\r\n",
        "all.loc[all['keyword'].str.contains('fire|burn'), 'keyword'] = 'fire'\r\n",
        "all.loc[all['text'].str.contains('fire'), 'keyword'] = 'fire'\r\n",
        "all.loc[all['keyword'].str.contains('radiation|nuclear|chemical|oil'), 'keyword'] = 'bioterrorism'\r\n",
        "all.loc[all['keyword'].str.contains('bomb|loud'), 'keyword'] = 'bomb'\r\n",
        "all.loc[all['text'].str.contains('bomb|explode|loud'), 'keyword'] = 'bomb'\r\n",
        "all.loc[all['keyword'].str.contains('inundation'), 'keyword'] = 'flooding'\r\n",
        "all.loc[all['text'].str.contains('flood|Flood'), 'keyword'] = 'flooding'\r\n",
        "all.loc[all['keyword'].str.contains('war|battle|structural'), 'keyword'] = 'war'\r\n",
        "all.loc[all['keyword'].str.contains('epicentre|bridge|cliff'), 'keyword'] = 'earthquake'\r\n",
        "all.loc[all['text'].str.contains('earthquake|EARTHQUAKE|Earthquake|bridge'), 'keyword'] = 'earthquake'\r\n",
        "all.loc[all['keyword'].str.contains('threat|violent'), 'keyword'] = 'danger'\r\n",
        "all.loc[all['text'].str.contains('Violent'), 'keyword'] = 'danger'\r\n",
        "all.loc[all['keyword'].str.contains('emergency'), 'keyword'] = 'emergency'\r\n",
        "all.loc[all['text'].str.contains('emergency'), 'keyword'] = 'emergency'\r\n",
        "all.loc[all['keyword'].str.contains('blew|blown|dust'), 'keyword'] = 'windstorm'\r\n",
        "all.loc[all['text'].str.contains('hurricane|tornado'), 'keyword'] = 'windstorm'\r\n",
        "all.loc[all['keyword'].str.contains('airplane'), 'keyword'] = 'crash'\r\n",
        "all.loc[all['text'].str.contains('crash|car'), 'keyword'] = 'crash'\r\n",
        "all.loc[all['keyword'].str.contains('first'), 'keyword'] = 'rescued'\r\n",
        "all.loc[all['keyword'].str.contains('disaster'), 'keyword'] = 'disaster'\r\n",
        "all.loc[all['text'].str.contains('heat|Heat'), 'keyword'] = 'heat'"
      ],
      "execution_count": 99,
      "outputs": []
    },
    {
      "cell_type": "code",
      "metadata": {
        "id": "QrR-ViO9Ckm3"
      },
      "source": [
        "all.loc[all['keyword']=='other' ]"
      ],
      "execution_count": null,
      "outputs": []
    },
    {
      "cell_type": "code",
      "metadata": {
        "colab": {
          "base_uri": "https://localhost:8080/"
        },
        "id": "vYby2eWxGSTB",
        "outputId": "98636de3-59fe-4c22-acb0-57a7897da9dc"
      },
      "source": [
        "#location\r\n",
        "all.loc[all['location'].str.contains('Iraq|Pakistan'), 'location'] = 'Asia'\r\n",
        "all.loc[all['location'].str.contains('Las Vegas'), 'location'] = 'Las Vegas'\r\n",
        "all.loc[all['location'].str.contains('Irleand|Dublin'), 'location'] = 'Irleand'\r\n",
        "all.loc[all['location'].str.contains('OH|Ohio'), 'location'] = 'Ohio'\r\n",
        "all.loc[all['location'].str.contains('Brazil'), 'location'] = 'Brasil'\r\n",
        "all.loc[all['location'].str.contains('MO|Kansas City'), 'location'] = 'Missouri'\r\n",
        "all.loc[all['location'].str.contains('umbai|India'), 'location'] = 'India'\r\n",
        "all.loc[all['location'].str.contains('Italy|France|Switzerland|Netherlands|Germany|Sweden|Geneva|Rome|Spain'), 'location'] = 'Europe'\r\n",
        "all.loc[all['location'].str.contains('Nigeria|Lagos'), 'location'] = 'Nigeria'\r\n",
        "all.loc[all['location'].str.contains('Japan|Tokyo'), 'location'] = 'Japan'\r\n",
        "all.loc[all['location'].str.contains('Virginia|VA'), 'location'] = 'Virginia'\r\n",
        "all.loc[all['location'].str.contains('Hong Kong|china|China'), 'location'] = 'China'\r\n",
        "all.loc[all['location'].str.contains('Edinburgh'), 'location'] = 'Scotland'\r\n",
        "all.loc[all['location'].str.contains('NC|North Carolina'), 'location'] = 'North Carolina'\r\n",
        "all.loc[all['location'].str.contains('Portland'), 'location'] = 'Portland'\r\n",
        "all.loc[all['location'].str.contains('Boston|WI|PA|IA|Poenix|Georgia|America|United States|Unites States|U.S.A|US|U.S.|Wisconsin|New Hampshire|Arizona|Midwest|Indiana|Maryland|Pennsylvania|Puerto Rico|Oregon|Michigan'), 'location'] = 'USA'\r\n",
        "all.loc[all['location'].str.contains('NJ|NY|New York|NYC|york|nyc'), 'location'] = 'New York'\r\n",
        "all.loc[all['location'].str.contains('Sydney'), 'location'] = 'Sydney'\r\n",
        "all.loc[all['location'].str.contains('ondon|United Kingdom|England|Coventry|Birmingham|Paignton|Liverpool|Glasgow|Newcastle|UK|Manchester'), 'location'] = 'UK'\r\n",
        "all.loc[all['location'].str.contains('Australia|Melbourne|Sydney'), 'location'] = 'Australia'\r\n",
        "all.loc[all['location'].str.contains('California|San Diego|Sacramento|San Francisco'), 'location'] = 'California'\r\n",
        "all.loc[all['location'].str.contains('Washington'), 'location'] = 'Washington'\r\n",
        "all.loc[all['location'].str.contains('Chicago'), 'location'] = 'Chicago'\r\n",
        "all.loc[all['location'].str.contains('Los Angeles|Subconscious|LA'), 'location'] = 'Los Angeles'\r\n",
        "all.loc[all['location'].str.contains('Seattle, WA'), 'location'] = 'Seattle'\r\n",
        "all.loc[all['location'].str.contains('World|orldwide|Earth|Global|The Universe'), 'location'] = 'Everywhere'\r\n",
        "all.loc[all['location'].str.contains('TX|Texas|Houston'), 'location'] = 'Texas'\r\n",
        "all.loc[all['location'].str.contains('CA|Canada|Toronto|Vancouver|canada|Calgary'), 'location'] = 'Canada'\r\n",
        "all.loc[all['location'].str.contains('TN'), 'location'] = 'Tennessee'\r\n",
        "all.loc[all['location'].str.contains('FL|Orlando'), 'location'] = 'Florida'\r\n",
        "all.loc[all['location'].str.contains('304|house|hell|Taylor|Tunes|stairs|Coffee|ss|Money|Happily Married|MAD as Hell|Billionaires|Word|Pedophile|Narnia|Your screen|Here|Jupiter|Anonymous|really|Breaking|where|All|Some|Innerhalb|Sky|BROKE|Can|Sky'), 'location'] = 'other'\r\n",
        "all.loc[all['location'].str.contains('Lagos'), 'location'] = 'Lagos'\r\n",
        "all.loc[all['location'].str.contains('Denver'), 'location'] = 'Denver'\r\n",
        "all.loc[all['location'].str.contains('New Jersey'), 'location'] = 'New Jersey'\r\n",
        "all.loc[all['location'].str.contains('Calgary'), 'location'] = 'Calgary'\r\n",
        "all.loc[all['location'].str.contains('Atlanta|atlanta'), 'location'] = 'Atlanta'\r\n",
        "all.loc[all['location'].str.contains('Detroit'), 'location'] = 'Michigan'\r\n",
        "\r\n",
        "\r\n",
        "# occur <20 times -> change to 'other'\r\n",
        "ln = all.groupby('location').location.count().sort_values(ascending=False)\r\n",
        "ln = ln[ln.values <= 20].index\r\n",
        "\r\n",
        "for loc in ln:\r\n",
        "    all.loc[(all.location == loc), 'location'] = 'other'\r\n",
        "all.groupby('location').location.count().sort_values()"
      ],
      "execution_count": 102,
      "outputs": [
        {
          "output_type": "execute_result",
          "data": {
            "text/plain": [
              "location\n",
              "China               21\n",
              "Portland            21\n",
              "Las Vegas           25\n",
              "Atlanta             26\n",
              "New Jersey          27\n",
              "Seattle             28\n",
              "Asia                31\n",
              "Denver              31\n",
              "Japan               31\n",
              "Kenya               32\n",
              "Virginia            61\n",
              "Chicago             63\n",
              "Ohio                63\n",
              "North Carolina      82\n",
              "Washington          88\n",
              "Nigeria             90\n",
              "Florida             92\n",
              "Europe              94\n",
              "Los Angeles         99\n",
              "Australia          117\n",
              "India              127\n",
              "Texas              149\n",
              "California         161\n",
              "New York           352\n",
              "UK                 428\n",
              "USA                748\n",
              "other             7789\n",
              "Name: location, dtype: int64"
            ]
          },
          "metadata": {
            "tags": []
          },
          "execution_count": 102
        }
      ]
    },
    {
      "cell_type": "code",
      "metadata": {
        "id": "Lq6cEBozPhgj"
      },
      "source": [
        "#new features\r\n",
        "all['length_text'] = all['text'].str.len()\r\n",
        "all['length_keyword'] = all['keyword'].str.len()\r\n",
        "all['length_location'] = all['location'].str.len()\r\n",
        "all['word_count'] = all['text'].str.split().str.len()\r\n",
        "all['is_upper_text'] = all['text'].str.count(r'[A-Z]')\r\n",
        "all['is_digit_text'] = all['text'].str.count(r'[0-9]')\r\n",
        "all['%_upper_text'] = all['is_upper_text']/all['length_text']\r\n",
        "all['is_#'] = all['text'].str.count(r'#')\r\n",
        "all.loc[(all['text'].str.contains(\"http\")), 'is_url'] = 1\r\n",
        "all.loc[all['is_url'].isnull(), 'is_url'] = 0\r\n",
        "all['is_@'] = all['text'].str.count(r'@')"
      ],
      "execution_count": 103,
      "outputs": []
    },
    {
      "cell_type": "code",
      "metadata": {
        "colab": {
          "base_uri": "https://localhost:8080/",
          "height": 204
        },
        "id": "z2_IdfCJQeLs",
        "outputId": "953fdae5-a72c-456c-f333-04120b7a1eb4"
      },
      "source": [
        "all.head()"
      ],
      "execution_count": 104,
      "outputs": [
        {
          "output_type": "execute_result",
          "data": {
            "text/html": [
              "<div>\n",
              "<style scoped>\n",
              "    .dataframe tbody tr th:only-of-type {\n",
              "        vertical-align: middle;\n",
              "    }\n",
              "\n",
              "    .dataframe tbody tr th {\n",
              "        vertical-align: top;\n",
              "    }\n",
              "\n",
              "    .dataframe thead th {\n",
              "        text-align: right;\n",
              "    }\n",
              "</style>\n",
              "<table border=\"1\" class=\"dataframe\">\n",
              "  <thead>\n",
              "    <tr style=\"text-align: right;\">\n",
              "      <th></th>\n",
              "      <th>id</th>\n",
              "      <th>keyword</th>\n",
              "      <th>location</th>\n",
              "      <th>text</th>\n",
              "      <th>target</th>\n",
              "      <th>length_text</th>\n",
              "      <th>length_keyword</th>\n",
              "      <th>length_location</th>\n",
              "      <th>word_count</th>\n",
              "      <th>is_upper_text</th>\n",
              "      <th>is_digit_text</th>\n",
              "      <th>%_upper_text</th>\n",
              "      <th>is_#</th>\n",
              "      <th>is_url</th>\n",
              "      <th>is_@</th>\n",
              "    </tr>\n",
              "  </thead>\n",
              "  <tbody>\n",
              "    <tr>\n",
              "      <th>0</th>\n",
              "      <td>1</td>\n",
              "      <td>earthquake</td>\n",
              "      <td>other</td>\n",
              "      <td>Our Deeds are the Reason of this #earthquake M...</td>\n",
              "      <td>1.0</td>\n",
              "      <td>69</td>\n",
              "      <td>10</td>\n",
              "      <td>5</td>\n",
              "      <td>13</td>\n",
              "      <td>10</td>\n",
              "      <td>0</td>\n",
              "      <td>0.144928</td>\n",
              "      <td>1</td>\n",
              "      <td>0.0</td>\n",
              "      <td>0</td>\n",
              "    </tr>\n",
              "    <tr>\n",
              "      <th>1</th>\n",
              "      <td>4</td>\n",
              "      <td>fire</td>\n",
              "      <td>other</td>\n",
              "      <td>Forest fire near La Ronge Sask. Canada</td>\n",
              "      <td>1.0</td>\n",
              "      <td>38</td>\n",
              "      <td>4</td>\n",
              "      <td>5</td>\n",
              "      <td>7</td>\n",
              "      <td>5</td>\n",
              "      <td>0</td>\n",
              "      <td>0.131579</td>\n",
              "      <td>0</td>\n",
              "      <td>0.0</td>\n",
              "      <td>0</td>\n",
              "    </tr>\n",
              "    <tr>\n",
              "      <th>2</th>\n",
              "      <td>5</td>\n",
              "      <td>other</td>\n",
              "      <td>other</td>\n",
              "      <td>All residents asked to 'shelter in place' are ...</td>\n",
              "      <td>1.0</td>\n",
              "      <td>133</td>\n",
              "      <td>5</td>\n",
              "      <td>5</td>\n",
              "      <td>22</td>\n",
              "      <td>2</td>\n",
              "      <td>0</td>\n",
              "      <td>0.015038</td>\n",
              "      <td>0</td>\n",
              "      <td>0.0</td>\n",
              "      <td>0</td>\n",
              "    </tr>\n",
              "    <tr>\n",
              "      <th>3</th>\n",
              "      <td>6</td>\n",
              "      <td>fire</td>\n",
              "      <td>other</td>\n",
              "      <td>13,000 people receive #wildfires evacuation or...</td>\n",
              "      <td>1.0</td>\n",
              "      <td>65</td>\n",
              "      <td>4</td>\n",
              "      <td>5</td>\n",
              "      <td>8</td>\n",
              "      <td>1</td>\n",
              "      <td>5</td>\n",
              "      <td>0.015385</td>\n",
              "      <td>1</td>\n",
              "      <td>0.0</td>\n",
              "      <td>0</td>\n",
              "    </tr>\n",
              "    <tr>\n",
              "      <th>4</th>\n",
              "      <td>7</td>\n",
              "      <td>fire</td>\n",
              "      <td>other</td>\n",
              "      <td>Just got sent this photo from Ruby #Alaska as ...</td>\n",
              "      <td>1.0</td>\n",
              "      <td>88</td>\n",
              "      <td>4</td>\n",
              "      <td>5</td>\n",
              "      <td>16</td>\n",
              "      <td>3</td>\n",
              "      <td>0</td>\n",
              "      <td>0.034091</td>\n",
              "      <td>2</td>\n",
              "      <td>0.0</td>\n",
              "      <td>0</td>\n",
              "    </tr>\n",
              "  </tbody>\n",
              "</table>\n",
              "</div>"
            ],
            "text/plain": [
              "   id     keyword location  ... is_#  is_url  is_@\n",
              "0   1  earthquake    other  ...    1     0.0     0\n",
              "1   4        fire    other  ...    0     0.0     0\n",
              "2   5       other    other  ...    0     0.0     0\n",
              "3   6        fire    other  ...    1     0.0     0\n",
              "4   7        fire    other  ...    2     0.0     0\n",
              "\n",
              "[5 rows x 15 columns]"
            ]
          },
          "metadata": {
            "tags": []
          },
          "execution_count": 104
        }
      ]
    },
    {
      "cell_type": "code",
      "metadata": {
        "id": "v5-d-KAIQffN"
      },
      "source": [
        ""
      ],
      "execution_count": null,
      "outputs": []
    }
  ]
}