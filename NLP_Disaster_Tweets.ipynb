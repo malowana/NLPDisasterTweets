{
  "nbformat": 4,
  "nbformat_minor": 0,
  "metadata": {
    "colab": {
      "name": "NLP Disaster Tweets.ipynb",
      "provenance": [],
      "toc_visible": true,
      "mount_file_id": "1dK_MNq7y0n-tIdhRbIWYv57CF9ZQ-hJi",
      "authorship_tag": "ABX9TyOMeBF5lVNrr/PJKceWA7B6"
    },
    "kernelspec": {
      "name": "python3",
      "display_name": "Python 3"
    },
    "accelerator": "GPU"
  },
  "cells": [
    {
      "cell_type": "code",
      "metadata": {
        "id": "-QQtsLLE8zSK"
      },
      "source": [
        "import pandas as pd\r\n",
        "import numpy as np"
      ],
      "execution_count": 1,
      "outputs": []
    },
    {
      "cell_type": "code",
      "metadata": {
        "colab": {
          "base_uri": "https://localhost:8080/"
        },
        "id": "l9F6TofAcEsR",
        "outputId": "0bd68889-c985-4495-ad71-20576dfed11c"
      },
      "source": [
        "!pip3 install catboost"
      ],
      "execution_count": 2,
      "outputs": [
        {
          "output_type": "stream",
          "text": [
            "Collecting catboost\n",
            "\u001b[?25l  Downloading https://files.pythonhosted.org/packages/96/3b/bb419654adcf7efff42ed8a3f84e50c8f236424b7ed1cc8ccd290852e003/catboost-0.24.4-cp37-none-manylinux1_x86_64.whl (65.7MB)\n",
            "\u001b[K     |████████████████████████████████| 65.7MB 44kB/s \n",
            "\u001b[?25hRequirement already satisfied: matplotlib in /usr/local/lib/python3.7/dist-packages (from catboost) (3.2.2)\n",
            "Requirement already satisfied: plotly in /usr/local/lib/python3.7/dist-packages (from catboost) (4.4.1)\n",
            "Requirement already satisfied: six in /usr/local/lib/python3.7/dist-packages (from catboost) (1.15.0)\n",
            "Requirement already satisfied: graphviz in /usr/local/lib/python3.7/dist-packages (from catboost) (0.10.1)\n",
            "Requirement already satisfied: pandas>=0.24.0 in /usr/local/lib/python3.7/dist-packages (from catboost) (1.1.5)\n",
            "Requirement already satisfied: scipy in /usr/local/lib/python3.7/dist-packages (from catboost) (1.4.1)\n",
            "Requirement already satisfied: numpy>=1.16.0 in /usr/local/lib/python3.7/dist-packages (from catboost) (1.19.5)\n",
            "Requirement already satisfied: python-dateutil>=2.1 in /usr/local/lib/python3.7/dist-packages (from matplotlib->catboost) (2.8.1)\n",
            "Requirement already satisfied: cycler>=0.10 in /usr/local/lib/python3.7/dist-packages (from matplotlib->catboost) (0.10.0)\n",
            "Requirement already satisfied: pyparsing!=2.0.4,!=2.1.2,!=2.1.6,>=2.0.1 in /usr/local/lib/python3.7/dist-packages (from matplotlib->catboost) (2.4.7)\n",
            "Requirement already satisfied: kiwisolver>=1.0.1 in /usr/local/lib/python3.7/dist-packages (from matplotlib->catboost) (1.3.1)\n",
            "Requirement already satisfied: retrying>=1.3.3 in /usr/local/lib/python3.7/dist-packages (from plotly->catboost) (1.3.3)\n",
            "Requirement already satisfied: pytz>=2017.2 in /usr/local/lib/python3.7/dist-packages (from pandas>=0.24.0->catboost) (2018.9)\n",
            "Installing collected packages: catboost\n",
            "Successfully installed catboost-0.24.4\n"
          ],
          "name": "stdout"
        }
      ]
    },
    {
      "cell_type": "code",
      "metadata": {
        "colab": {
          "base_uri": "https://localhost:8080/"
        },
        "id": "29wg2YY_cMC4",
        "outputId": "18d62b0d-5a9a-4a2f-abd6-7e53089c595e"
      },
      "source": [
        "!pip install scikit-plot"
      ],
      "execution_count": 3,
      "outputs": [
        {
          "output_type": "stream",
          "text": [
            "Collecting scikit-plot\n",
            "  Downloading https://files.pythonhosted.org/packages/7c/47/32520e259340c140a4ad27c1b97050dd3254fdc517b1d59974d47037510e/scikit_plot-0.3.7-py3-none-any.whl\n",
            "Requirement already satisfied: joblib>=0.10 in /usr/local/lib/python3.7/dist-packages (from scikit-plot) (1.0.1)\n",
            "Requirement already satisfied: scikit-learn>=0.18 in /usr/local/lib/python3.7/dist-packages (from scikit-plot) (0.22.2.post1)\n",
            "Requirement already satisfied: matplotlib>=1.4.0 in /usr/local/lib/python3.7/dist-packages (from scikit-plot) (3.2.2)\n",
            "Requirement already satisfied: scipy>=0.9 in /usr/local/lib/python3.7/dist-packages (from scikit-plot) (1.4.1)\n",
            "Requirement already satisfied: numpy>=1.11.0 in /usr/local/lib/python3.7/dist-packages (from scikit-learn>=0.18->scikit-plot) (1.19.5)\n",
            "Requirement already satisfied: pyparsing!=2.0.4,!=2.1.2,!=2.1.6,>=2.0.1 in /usr/local/lib/python3.7/dist-packages (from matplotlib>=1.4.0->scikit-plot) (2.4.7)\n",
            "Requirement already satisfied: cycler>=0.10 in /usr/local/lib/python3.7/dist-packages (from matplotlib>=1.4.0->scikit-plot) (0.10.0)\n",
            "Requirement already satisfied: python-dateutil>=2.1 in /usr/local/lib/python3.7/dist-packages (from matplotlib>=1.4.0->scikit-plot) (2.8.1)\n",
            "Requirement already satisfied: kiwisolver>=1.0.1 in /usr/local/lib/python3.7/dist-packages (from matplotlib>=1.4.0->scikit-plot) (1.3.1)\n",
            "Requirement already satisfied: six in /usr/local/lib/python3.7/dist-packages (from cycler>=0.10->matplotlib>=1.4.0->scikit-plot) (1.15.0)\n",
            "Installing collected packages: scikit-plot\n",
            "Successfully installed scikit-plot-0.3.7\n"
          ],
          "name": "stdout"
        }
      ]
    },
    {
      "cell_type": "code",
      "metadata": {
        "colab": {
          "base_uri": "https://localhost:8080/"
        },
        "id": "plQy64N69MdD",
        "outputId": "e7032100-b47c-4c7e-ba6f-f1a1f12b1631"
      },
      "source": [
        "cd '/content/drive/My Drive/Konkursy Kaggle/Disaster Tweets'"
      ],
      "execution_count": 4,
      "outputs": [
        {
          "output_type": "stream",
          "text": [
            "/content/drive/My Drive/Konkursy Kaggle/Disaster Tweets\n"
          ],
          "name": "stdout"
        }
      ]
    },
    {
      "cell_type": "markdown",
      "metadata": {
        "id": "4zpl69LsRGH0"
      },
      "source": [
        "Data taken from https://www.kaggle.com/c/nlp-getting-started/data\r\n"
      ]
    },
    {
      "cell_type": "code",
      "metadata": {
        "id": "i1yXq8gB9aq-"
      },
      "source": [
        "train = pd.read_csv('/content/drive/My Drive/Konkursy Kaggle/Disaster Tweets/train.csv').reset_index(drop=True)\r\n",
        "test = pd.read_csv('/content/drive/My Drive/Konkursy Kaggle/Disaster Tweets/test.csv').reset_index(drop=True)"
      ],
      "execution_count": 5,
      "outputs": []
    },
    {
      "cell_type": "code",
      "metadata": {
        "colab": {
          "base_uri": "https://localhost:8080/",
          "height": 359
        },
        "id": "LIrIw-bO9ilQ",
        "outputId": "859974d7-6c7c-4ac5-adb1-73f3bead3c8d"
      },
      "source": [
        "train.sample(10)"
      ],
      "execution_count": 6,
      "outputs": [
        {
          "output_type": "execute_result",
          "data": {
            "text/html": [
              "<div>\n",
              "<style scoped>\n",
              "    .dataframe tbody tr th:only-of-type {\n",
              "        vertical-align: middle;\n",
              "    }\n",
              "\n",
              "    .dataframe tbody tr th {\n",
              "        vertical-align: top;\n",
              "    }\n",
              "\n",
              "    .dataframe thead th {\n",
              "        text-align: right;\n",
              "    }\n",
              "</style>\n",
              "<table border=\"1\" class=\"dataframe\">\n",
              "  <thead>\n",
              "    <tr style=\"text-align: right;\">\n",
              "      <th></th>\n",
              "      <th>id</th>\n",
              "      <th>keyword</th>\n",
              "      <th>location</th>\n",
              "      <th>text</th>\n",
              "      <th>target</th>\n",
              "    </tr>\n",
              "  </thead>\n",
              "  <tbody>\n",
              "    <tr>\n",
              "      <th>4476</th>\n",
              "      <td>6366</td>\n",
              "      <td>hostages</td>\n",
              "      <td>china</td>\n",
              "      <td>#hot  C-130 specially modified to land in a st...</td>\n",
              "      <td>0</td>\n",
              "    </tr>\n",
              "    <tr>\n",
              "      <th>1316</th>\n",
              "      <td>1900</td>\n",
              "      <td>burning</td>\n",
              "      <td>Paradise, NV</td>\n",
              "      <td>Uhhhhh demon hunters. But not the whole Burnin...</td>\n",
              "      <td>0</td>\n",
              "    </tr>\n",
              "    <tr>\n",
              "      <th>5137</th>\n",
              "      <td>7326</td>\n",
              "      <td>nuclear%20reactor</td>\n",
              "      <td>NaN</td>\n",
              "      <td>Navy sidelines 3 newest subs http://t.co/gpVZV...</td>\n",
              "      <td>0</td>\n",
              "    </tr>\n",
              "    <tr>\n",
              "      <th>2774</th>\n",
              "      <td>3990</td>\n",
              "      <td>devastation</td>\n",
              "      <td>Denver, CO</td>\n",
              "      <td>$10M SETTLEMENT attained using our illustratio...</td>\n",
              "      <td>1</td>\n",
              "    </tr>\n",
              "    <tr>\n",
              "      <th>5692</th>\n",
              "      <td>8122</td>\n",
              "      <td>rescued</td>\n",
              "      <td>NIGERIA</td>\n",
              "      <td>http://t.co/QGyN2u1UP3 Rescued Med migrants ar...</td>\n",
              "      <td>1</td>\n",
              "    </tr>\n",
              "    <tr>\n",
              "      <th>3116</th>\n",
              "      <td>4472</td>\n",
              "      <td>electrocuted</td>\n",
              "      <td>South West, England</td>\n",
              "      <td>MT @Earths_Voice Treatment of #tigers in #Chin...</td>\n",
              "      <td>1</td>\n",
              "    </tr>\n",
              "    <tr>\n",
              "      <th>208</th>\n",
              "      <td>294</td>\n",
              "      <td>ambulance</td>\n",
              "      <td>Davidson, NC</td>\n",
              "      <td>People who try to j-walk while an ambulance is...</td>\n",
              "      <td>0</td>\n",
              "    </tr>\n",
              "    <tr>\n",
              "      <th>5186</th>\n",
              "      <td>7403</td>\n",
              "      <td>obliterated</td>\n",
              "      <td>NaN</td>\n",
              "      <td>air sunrays obliterated on its hairy head like...</td>\n",
              "      <td>0</td>\n",
              "    </tr>\n",
              "    <tr>\n",
              "      <th>2042</th>\n",
              "      <td>2932</td>\n",
              "      <td>danger</td>\n",
              "      <td>Hailing from Dayton</td>\n",
              "      <td>I wish I could get Victoria's Secret on front....</td>\n",
              "      <td>0</td>\n",
              "    </tr>\n",
              "    <tr>\n",
              "      <th>3264</th>\n",
              "      <td>4689</td>\n",
              "      <td>engulfed</td>\n",
              "      <td>USA</td>\n",
              "      <td>Car engulfed in flames backs up traffic at Par...</td>\n",
              "      <td>1</td>\n",
              "    </tr>\n",
              "  </tbody>\n",
              "</table>\n",
              "</div>"
            ],
            "text/plain": [
              "        id  ... target\n",
              "4476  6366  ...      0\n",
              "1316  1900  ...      0\n",
              "5137  7326  ...      0\n",
              "2774  3990  ...      1\n",
              "5692  8122  ...      1\n",
              "3116  4472  ...      1\n",
              "208    294  ...      0\n",
              "5186  7403  ...      0\n",
              "2042  2932  ...      0\n",
              "3264  4689  ...      1\n",
              "\n",
              "[10 rows x 5 columns]"
            ]
          },
          "metadata": {
            "tags": []
          },
          "execution_count": 6
        }
      ]
    },
    {
      "cell_type": "markdown",
      "metadata": {
        "id": "Vc-34-yF-xPL"
      },
      "source": [
        "Check if there are missing values and fill it"
      ]
    },
    {
      "cell_type": "code",
      "metadata": {
        "colab": {
          "base_uri": "https://localhost:8080/"
        },
        "id": "GAIzdswV9v7w",
        "outputId": "3cdef9fe-227f-450d-f945-3a4cad78aa92"
      },
      "source": [
        "def is_missing(train):\r\n",
        "  for column in train.columns:\r\n",
        "      missing = column, train[column].isnull().sum()\r\n",
        "      if missing[1] == 0: continue\r\n",
        "      print(missing)\r\n",
        "\r\n",
        "is_missing(train)\r\n",
        "is_missing(test)"
      ],
      "execution_count": 7,
      "outputs": [
        {
          "output_type": "stream",
          "text": [
            "('keyword', 61)\n",
            "('location', 2533)\n",
            "('keyword', 26)\n",
            "('location', 1105)\n"
          ],
          "name": "stdout"
        }
      ]
    },
    {
      "cell_type": "code",
      "metadata": {
        "id": "KyhaW5jd-W7V"
      },
      "source": [
        "train = train.fillna(\"other\")\r\n",
        "test = test.fillna(\"other\")"
      ],
      "execution_count": 8,
      "outputs": []
    },
    {
      "cell_type": "code",
      "metadata": {
        "id": "ORj2Vl7g_B0M"
      },
      "source": [
        "#concatenate the subsets\r\n",
        "all = pd.concat([train, test], sort=False)"
      ],
      "execution_count": 9,
      "outputs": []
    },
    {
      "cell_type": "code",
      "metadata": {
        "colab": {
          "base_uri": "https://localhost:8080/",
          "height": 204
        },
        "id": "KI1hxgsC_DZ7",
        "outputId": "1abcd13f-5da1-4186-8259-99931002df27"
      },
      "source": [
        "all.head()"
      ],
      "execution_count": 10,
      "outputs": [
        {
          "output_type": "execute_result",
          "data": {
            "text/html": [
              "<div>\n",
              "<style scoped>\n",
              "    .dataframe tbody tr th:only-of-type {\n",
              "        vertical-align: middle;\n",
              "    }\n",
              "\n",
              "    .dataframe tbody tr th {\n",
              "        vertical-align: top;\n",
              "    }\n",
              "\n",
              "    .dataframe thead th {\n",
              "        text-align: right;\n",
              "    }\n",
              "</style>\n",
              "<table border=\"1\" class=\"dataframe\">\n",
              "  <thead>\n",
              "    <tr style=\"text-align: right;\">\n",
              "      <th></th>\n",
              "      <th>id</th>\n",
              "      <th>keyword</th>\n",
              "      <th>location</th>\n",
              "      <th>text</th>\n",
              "      <th>target</th>\n",
              "    </tr>\n",
              "  </thead>\n",
              "  <tbody>\n",
              "    <tr>\n",
              "      <th>0</th>\n",
              "      <td>1</td>\n",
              "      <td>other</td>\n",
              "      <td>other</td>\n",
              "      <td>Our Deeds are the Reason of this #earthquake M...</td>\n",
              "      <td>1.0</td>\n",
              "    </tr>\n",
              "    <tr>\n",
              "      <th>1</th>\n",
              "      <td>4</td>\n",
              "      <td>other</td>\n",
              "      <td>other</td>\n",
              "      <td>Forest fire near La Ronge Sask. Canada</td>\n",
              "      <td>1.0</td>\n",
              "    </tr>\n",
              "    <tr>\n",
              "      <th>2</th>\n",
              "      <td>5</td>\n",
              "      <td>other</td>\n",
              "      <td>other</td>\n",
              "      <td>All residents asked to 'shelter in place' are ...</td>\n",
              "      <td>1.0</td>\n",
              "    </tr>\n",
              "    <tr>\n",
              "      <th>3</th>\n",
              "      <td>6</td>\n",
              "      <td>other</td>\n",
              "      <td>other</td>\n",
              "      <td>13,000 people receive #wildfires evacuation or...</td>\n",
              "      <td>1.0</td>\n",
              "    </tr>\n",
              "    <tr>\n",
              "      <th>4</th>\n",
              "      <td>7</td>\n",
              "      <td>other</td>\n",
              "      <td>other</td>\n",
              "      <td>Just got sent this photo from Ruby #Alaska as ...</td>\n",
              "      <td>1.0</td>\n",
              "    </tr>\n",
              "  </tbody>\n",
              "</table>\n",
              "</div>"
            ],
            "text/plain": [
              "   id keyword  ...                                               text target\n",
              "0   1   other  ...  Our Deeds are the Reason of this #earthquake M...    1.0\n",
              "1   4   other  ...             Forest fire near La Ronge Sask. Canada    1.0\n",
              "2   5   other  ...  All residents asked to 'shelter in place' are ...    1.0\n",
              "3   6   other  ...  13,000 people receive #wildfires evacuation or...    1.0\n",
              "4   7   other  ...  Just got sent this photo from Ruby #Alaska as ...    1.0\n",
              "\n",
              "[5 rows x 5 columns]"
            ]
          },
          "metadata": {
            "tags": []
          },
          "execution_count": 10
        }
      ]
    },
    {
      "cell_type": "markdown",
      "metadata": {
        "id": "M_4RZOqyPUT0"
      },
      "source": [
        "Data cleanup"
      ]
    },
    {
      "cell_type": "code",
      "metadata": {
        "colab": {
          "base_uri": "https://localhost:8080/"
        },
        "id": "e3D2vZ_B_V9T",
        "outputId": "64c0275e-9371-4492-a081-08ac5cb5b7d8"
      },
      "source": [
        "all.keyword.value_counts()"
      ],
      "execution_count": 11,
      "outputs": [
        {
          "output_type": "execute_result",
          "data": {
            "text/plain": [
              "other                    87\n",
              "buildings%20burning      50\n",
              "sandstorm                50\n",
              "attack                   50\n",
              "whirlwind                50\n",
              "                         ..\n",
              "forest%20fire            24\n",
              "threat                   16\n",
              "radiation%20emergency    14\n",
              "inundation               14\n",
              "epicentre                13\n",
              "Name: keyword, Length: 222, dtype: int64"
            ]
          },
          "metadata": {
            "tags": []
          },
          "execution_count": 11
        }
      ]
    },
    {
      "cell_type": "code",
      "metadata": {
        "id": "U09gYcDc_2Tp"
      },
      "source": [
        "#keywords\r\n",
        "all.loc[all['keyword'].str.contains('murder|bag'), 'keyword'] = 'murder'\r\n",
        "all.loc[all['keyword'].str.contains('fire|burn'), 'keyword'] = 'fire'\r\n",
        "all.loc[all['text'].str.contains('fire'), 'keyword'] = 'fire'\r\n",
        "all.loc[all['keyword'].str.contains('radiation|nuclear|chemical|oil'), 'keyword'] = 'bioterrorism'\r\n",
        "all.loc[all['keyword'].str.contains('bomb|loud'), 'keyword'] = 'bomb'\r\n",
        "all.loc[all['text'].str.contains('bomb|explode|loud'), 'keyword'] = 'bomb'\r\n",
        "all.loc[all['keyword'].str.contains('inundation'), 'keyword'] = 'flooding'\r\n",
        "all.loc[all['text'].str.contains('flood|Flood'), 'keyword'] = 'flooding'\r\n",
        "all.loc[all['keyword'].str.contains('war|battle|structural'), 'keyword'] = 'war'\r\n",
        "all.loc[all['keyword'].str.contains('epicentre|bridge|cliff'), 'keyword'] = 'earthquake'\r\n",
        "all.loc[all['text'].str.contains('earthquake|EARTHQUAKE|Earthquake|bridge'), 'keyword'] = 'earthquake'\r\n",
        "all.loc[all['keyword'].str.contains('threat|violent'), 'keyword'] = 'danger'\r\n",
        "all.loc[all['text'].str.contains('Violent'), 'keyword'] = 'danger'\r\n",
        "all.loc[all['keyword'].str.contains('emergency'), 'keyword'] = 'emergency'\r\n",
        "all.loc[all['text'].str.contains('emergency'), 'keyword'] = 'emergency'\r\n",
        "all.loc[all['keyword'].str.contains('blew|blown|dust'), 'keyword'] = 'windstorm'\r\n",
        "all.loc[all['text'].str.contains('hurricane|tornado'), 'keyword'] = 'windstorm'\r\n",
        "all.loc[all['keyword'].str.contains('airplane'), 'keyword'] = 'crash'\r\n",
        "all.loc[all['text'].str.contains('crash|car'), 'keyword'] = 'crash'\r\n",
        "all.loc[all['keyword'].str.contains('first'), 'keyword'] = 'rescued'\r\n",
        "all.loc[all['keyword'].str.contains('disaster'), 'keyword'] = 'disaster'\r\n",
        "all.loc[all['text'].str.contains('heat|Heat'), 'keyword'] = 'heat'"
      ],
      "execution_count": 12,
      "outputs": []
    },
    {
      "cell_type": "code",
      "metadata": {
        "colab": {
          "base_uri": "https://localhost:8080/",
          "height": 1000
        },
        "id": "QrR-ViO9Ckm3",
        "outputId": "d54a3ac4-3d82-404f-a40e-646daa325ee7"
      },
      "source": [
        "all.loc[all['keyword']=='other' ]"
      ],
      "execution_count": 13,
      "outputs": [
        {
          "output_type": "execute_result",
          "data": {
            "text/html": [
              "<div>\n",
              "<style scoped>\n",
              "    .dataframe tbody tr th:only-of-type {\n",
              "        vertical-align: middle;\n",
              "    }\n",
              "\n",
              "    .dataframe tbody tr th {\n",
              "        vertical-align: top;\n",
              "    }\n",
              "\n",
              "    .dataframe thead th {\n",
              "        text-align: right;\n",
              "    }\n",
              "</style>\n",
              "<table border=\"1\" class=\"dataframe\">\n",
              "  <thead>\n",
              "    <tr style=\"text-align: right;\">\n",
              "      <th></th>\n",
              "      <th>id</th>\n",
              "      <th>keyword</th>\n",
              "      <th>location</th>\n",
              "      <th>text</th>\n",
              "      <th>target</th>\n",
              "    </tr>\n",
              "  </thead>\n",
              "  <tbody>\n",
              "    <tr>\n",
              "      <th>2</th>\n",
              "      <td>5</td>\n",
              "      <td>other</td>\n",
              "      <td>other</td>\n",
              "      <td>All residents asked to 'shelter in place' are ...</td>\n",
              "      <td>1.0</td>\n",
              "    </tr>\n",
              "    <tr>\n",
              "      <th>15</th>\n",
              "      <td>23</td>\n",
              "      <td>other</td>\n",
              "      <td>other</td>\n",
              "      <td>What's up man?</td>\n",
              "      <td>0.0</td>\n",
              "    </tr>\n",
              "    <tr>\n",
              "      <th>16</th>\n",
              "      <td>24</td>\n",
              "      <td>other</td>\n",
              "      <td>other</td>\n",
              "      <td>I love fruits</td>\n",
              "      <td>0.0</td>\n",
              "    </tr>\n",
              "    <tr>\n",
              "      <th>17</th>\n",
              "      <td>25</td>\n",
              "      <td>other</td>\n",
              "      <td>other</td>\n",
              "      <td>Summer is lovely</td>\n",
              "      <td>0.0</td>\n",
              "    </tr>\n",
              "    <tr>\n",
              "      <th>19</th>\n",
              "      <td>28</td>\n",
              "      <td>other</td>\n",
              "      <td>other</td>\n",
              "      <td>What a goooooooaaaaaal!!!!!!</td>\n",
              "      <td>0.0</td>\n",
              "    </tr>\n",
              "    <tr>\n",
              "      <th>20</th>\n",
              "      <td>31</td>\n",
              "      <td>other</td>\n",
              "      <td>other</td>\n",
              "      <td>this is ridiculous....</td>\n",
              "      <td>0.0</td>\n",
              "    </tr>\n",
              "    <tr>\n",
              "      <th>21</th>\n",
              "      <td>32</td>\n",
              "      <td>other</td>\n",
              "      <td>other</td>\n",
              "      <td>London is cool ;)</td>\n",
              "      <td>0.0</td>\n",
              "    </tr>\n",
              "    <tr>\n",
              "      <th>22</th>\n",
              "      <td>33</td>\n",
              "      <td>other</td>\n",
              "      <td>other</td>\n",
              "      <td>Love skiing</td>\n",
              "      <td>0.0</td>\n",
              "    </tr>\n",
              "    <tr>\n",
              "      <th>23</th>\n",
              "      <td>34</td>\n",
              "      <td>other</td>\n",
              "      <td>other</td>\n",
              "      <td>What a wonderful day!</td>\n",
              "      <td>0.0</td>\n",
              "    </tr>\n",
              "    <tr>\n",
              "      <th>24</th>\n",
              "      <td>36</td>\n",
              "      <td>other</td>\n",
              "      <td>other</td>\n",
              "      <td>LOOOOOOL</td>\n",
              "      <td>0.0</td>\n",
              "    </tr>\n",
              "    <tr>\n",
              "      <th>25</th>\n",
              "      <td>37</td>\n",
              "      <td>other</td>\n",
              "      <td>other</td>\n",
              "      <td>No way...I can't eat that shit</td>\n",
              "      <td>0.0</td>\n",
              "    </tr>\n",
              "    <tr>\n",
              "      <th>26</th>\n",
              "      <td>38</td>\n",
              "      <td>other</td>\n",
              "      <td>other</td>\n",
              "      <td>Was in NYC last week!</td>\n",
              "      <td>0.0</td>\n",
              "    </tr>\n",
              "    <tr>\n",
              "      <th>27</th>\n",
              "      <td>39</td>\n",
              "      <td>other</td>\n",
              "      <td>other</td>\n",
              "      <td>Love my girlfriend</td>\n",
              "      <td>0.0</td>\n",
              "    </tr>\n",
              "    <tr>\n",
              "      <th>28</th>\n",
              "      <td>40</td>\n",
              "      <td>other</td>\n",
              "      <td>other</td>\n",
              "      <td>Cooool :)</td>\n",
              "      <td>0.0</td>\n",
              "    </tr>\n",
              "    <tr>\n",
              "      <th>29</th>\n",
              "      <td>41</td>\n",
              "      <td>other</td>\n",
              "      <td>other</td>\n",
              "      <td>Do you like pasta?</td>\n",
              "      <td>0.0</td>\n",
              "    </tr>\n",
              "    <tr>\n",
              "      <th>30</th>\n",
              "      <td>44</td>\n",
              "      <td>other</td>\n",
              "      <td>other</td>\n",
              "      <td>The end!</td>\n",
              "      <td>0.0</td>\n",
              "    </tr>\n",
              "    <tr>\n",
              "      <th>7586</th>\n",
              "      <td>10840</td>\n",
              "      <td>other</td>\n",
              "      <td>other</td>\n",
              "      <td>#Sismo DETECTADO #JapÌ_n 15:41:07 Seismic inte...</td>\n",
              "      <td>1.0</td>\n",
              "    </tr>\n",
              "    <tr>\n",
              "      <th>7587</th>\n",
              "      <td>10841</td>\n",
              "      <td>other</td>\n",
              "      <td>other</td>\n",
              "      <td>Sirens everywhere!</td>\n",
              "      <td>0.0</td>\n",
              "    </tr>\n",
              "    <tr>\n",
              "      <th>7588</th>\n",
              "      <td>10842</td>\n",
              "      <td>other</td>\n",
              "      <td>other</td>\n",
              "      <td>BREAKING: #ISIS claims responsibility for mosq...</td>\n",
              "      <td>1.0</td>\n",
              "    </tr>\n",
              "    <tr>\n",
              "      <th>7590</th>\n",
              "      <td>10844</td>\n",
              "      <td>other</td>\n",
              "      <td>other</td>\n",
              "      <td>SEVERE WEATHER BULLETIN No. 5 FOR: TYPHOON ÛÏ...</td>\n",
              "      <td>1.0</td>\n",
              "    </tr>\n",
              "    <tr>\n",
              "      <th>7596</th>\n",
              "      <td>10851</td>\n",
              "      <td>other</td>\n",
              "      <td>other</td>\n",
              "      <td>RT @LivingSafely: #NWS issues Severe #Thunders...</td>\n",
              "      <td>1.0</td>\n",
              "    </tr>\n",
              "    <tr>\n",
              "      <th>7597</th>\n",
              "      <td>10852</td>\n",
              "      <td>other</td>\n",
              "      <td>other</td>\n",
              "      <td>#??? #?? #??? #??? MH370: Aircraft debris foun...</td>\n",
              "      <td>1.0</td>\n",
              "    </tr>\n",
              "    <tr>\n",
              "      <th>7598</th>\n",
              "      <td>10853</td>\n",
              "      <td>other</td>\n",
              "      <td>other</td>\n",
              "      <td>Father-of-three Lost Control of Car After Over...</td>\n",
              "      <td>1.0</td>\n",
              "    </tr>\n",
              "    <tr>\n",
              "      <th>7600</th>\n",
              "      <td>10855</td>\n",
              "      <td>other</td>\n",
              "      <td>other</td>\n",
              "      <td>Evacuation order lifted for town of Roosevelt:...</td>\n",
              "      <td>1.0</td>\n",
              "    </tr>\n",
              "    <tr>\n",
              "      <th>7601</th>\n",
              "      <td>10859</td>\n",
              "      <td>other</td>\n",
              "      <td>other</td>\n",
              "      <td>#breaking #LA Refugio oil spill may have been ...</td>\n",
              "      <td>1.0</td>\n",
              "    </tr>\n",
              "    <tr>\n",
              "      <th>7603</th>\n",
              "      <td>10862</td>\n",
              "      <td>other</td>\n",
              "      <td>other</td>\n",
              "      <td>Officials say a quarantine is in place at an A...</td>\n",
              "      <td>1.0</td>\n",
              "    </tr>\n",
              "    <tr>\n",
              "      <th>7604</th>\n",
              "      <td>10863</td>\n",
              "      <td>other</td>\n",
              "      <td>other</td>\n",
              "      <td>#WorldNews Fallen powerlines on G:link tram: U...</td>\n",
              "      <td>1.0</td>\n",
              "    </tr>\n",
              "    <tr>\n",
              "      <th>7610</th>\n",
              "      <td>10871</td>\n",
              "      <td>other</td>\n",
              "      <td>other</td>\n",
              "      <td>M1.94 [01:04 UTC]?5km S of Volcano Hawaii. htt...</td>\n",
              "      <td>1.0</td>\n",
              "    </tr>\n",
              "    <tr>\n",
              "      <th>4</th>\n",
              "      <td>11</td>\n",
              "      <td>other</td>\n",
              "      <td>other</td>\n",
              "      <td>Typhoon Soudelor kills 28 in China and Taiwan</td>\n",
              "      <td>NaN</td>\n",
              "    </tr>\n",
              "    <tr>\n",
              "      <th>6</th>\n",
              "      <td>21</td>\n",
              "      <td>other</td>\n",
              "      <td>other</td>\n",
              "      <td>They'd probably still show more life than Arse...</td>\n",
              "      <td>NaN</td>\n",
              "    </tr>\n",
              "    <tr>\n",
              "      <th>7</th>\n",
              "      <td>22</td>\n",
              "      <td>other</td>\n",
              "      <td>other</td>\n",
              "      <td>Hey! How are you?</td>\n",
              "      <td>NaN</td>\n",
              "    </tr>\n",
              "    <tr>\n",
              "      <th>8</th>\n",
              "      <td>27</td>\n",
              "      <td>other</td>\n",
              "      <td>other</td>\n",
              "      <td>What a nice hat?</td>\n",
              "      <td>NaN</td>\n",
              "    </tr>\n",
              "    <tr>\n",
              "      <th>9</th>\n",
              "      <td>29</td>\n",
              "      <td>other</td>\n",
              "      <td>other</td>\n",
              "      <td>Fuck off!</td>\n",
              "      <td>NaN</td>\n",
              "    </tr>\n",
              "    <tr>\n",
              "      <th>10</th>\n",
              "      <td>30</td>\n",
              "      <td>other</td>\n",
              "      <td>other</td>\n",
              "      <td>No I don't like cold!</td>\n",
              "      <td>NaN</td>\n",
              "    </tr>\n",
              "    <tr>\n",
              "      <th>11</th>\n",
              "      <td>35</td>\n",
              "      <td>other</td>\n",
              "      <td>other</td>\n",
              "      <td>NOOOOOOOOO! Don't do that!</td>\n",
              "      <td>NaN</td>\n",
              "    </tr>\n",
              "    <tr>\n",
              "      <th>12</th>\n",
              "      <td>42</td>\n",
              "      <td>other</td>\n",
              "      <td>other</td>\n",
              "      <td>No don't tell me that!</td>\n",
              "      <td>NaN</td>\n",
              "    </tr>\n",
              "    <tr>\n",
              "      <th>13</th>\n",
              "      <td>43</td>\n",
              "      <td>other</td>\n",
              "      <td>other</td>\n",
              "      <td>What if?!</td>\n",
              "      <td>NaN</td>\n",
              "    </tr>\n",
              "    <tr>\n",
              "      <th>14</th>\n",
              "      <td>45</td>\n",
              "      <td>other</td>\n",
              "      <td>other</td>\n",
              "      <td>Awesome!</td>\n",
              "      <td>NaN</td>\n",
              "    </tr>\n",
              "    <tr>\n",
              "      <th>3252</th>\n",
              "      <td>10836</td>\n",
              "      <td>other</td>\n",
              "      <td>other</td>\n",
              "      <td>#Ebola #EbolaOutbreak Ebola Virus: Birmingham ...</td>\n",
              "      <td>NaN</td>\n",
              "    </tr>\n",
              "    <tr>\n",
              "      <th>3253</th>\n",
              "      <td>10838</td>\n",
              "      <td>other</td>\n",
              "      <td>other</td>\n",
              "      <td>Malaysian PM confirms debris is from missing f...</td>\n",
              "      <td>NaN</td>\n",
              "    </tr>\n",
              "    <tr>\n",
              "      <th>3254</th>\n",
              "      <td>10845</td>\n",
              "      <td>other</td>\n",
              "      <td>other</td>\n",
              "      <td>Officials: Alabama home quarantined over possi...</td>\n",
              "      <td>NaN</td>\n",
              "    </tr>\n",
              "    <tr>\n",
              "      <th>3256</th>\n",
              "      <td>10857</td>\n",
              "      <td>other</td>\n",
              "      <td>other</td>\n",
              "      <td>To conference attendees! The blue line from th...</td>\n",
              "      <td>NaN</td>\n",
              "    </tr>\n",
              "    <tr>\n",
              "      <th>3260</th>\n",
              "      <td>10868</td>\n",
              "      <td>other</td>\n",
              "      <td>other</td>\n",
              "      <td>Green Line derailment in Chicago http://t.co/U...</td>\n",
              "      <td>NaN</td>\n",
              "    </tr>\n",
              "    <tr>\n",
              "      <th>3261</th>\n",
              "      <td>10874</td>\n",
              "      <td>other</td>\n",
              "      <td>other</td>\n",
              "      <td>MEG issues Hazardous Weather Outlook (HWO) htt...</td>\n",
              "      <td>NaN</td>\n",
              "    </tr>\n",
              "    <tr>\n",
              "      <th>3262</th>\n",
              "      <td>10875</td>\n",
              "      <td>other</td>\n",
              "      <td>other</td>\n",
              "      <td>#CityofCalgary has activated its Municipal Eme...</td>\n",
              "      <td>NaN</td>\n",
              "    </tr>\n",
              "  </tbody>\n",
              "</table>\n",
              "</div>"
            ],
            "text/plain": [
              "         id keyword  ...                                               text target\n",
              "2         5   other  ...  All residents asked to 'shelter in place' are ...    1.0\n",
              "15       23   other  ...                                     What's up man?    0.0\n",
              "16       24   other  ...                                      I love fruits    0.0\n",
              "17       25   other  ...                                   Summer is lovely    0.0\n",
              "19       28   other  ...                       What a goooooooaaaaaal!!!!!!    0.0\n",
              "20       31   other  ...                             this is ridiculous....    0.0\n",
              "21       32   other  ...                                  London is cool ;)    0.0\n",
              "22       33   other  ...                                        Love skiing    0.0\n",
              "23       34   other  ...                              What a wonderful day!    0.0\n",
              "24       36   other  ...                                           LOOOOOOL    0.0\n",
              "25       37   other  ...                     No way...I can't eat that shit    0.0\n",
              "26       38   other  ...                              Was in NYC last week!    0.0\n",
              "27       39   other  ...                                 Love my girlfriend    0.0\n",
              "28       40   other  ...                                          Cooool :)    0.0\n",
              "29       41   other  ...                                 Do you like pasta?    0.0\n",
              "30       44   other  ...                                           The end!    0.0\n",
              "7586  10840   other  ...  #Sismo DETECTADO #JapÌ_n 15:41:07 Seismic inte...    1.0\n",
              "7587  10841   other  ...                                 Sirens everywhere!    0.0\n",
              "7588  10842   other  ...  BREAKING: #ISIS claims responsibility for mosq...    1.0\n",
              "7590  10844   other  ...  SEVERE WEATHER BULLETIN No. 5 FOR: TYPHOON ÛÏ...    1.0\n",
              "7596  10851   other  ...  RT @LivingSafely: #NWS issues Severe #Thunders...    1.0\n",
              "7597  10852   other  ...  #??? #?? #??? #??? MH370: Aircraft debris foun...    1.0\n",
              "7598  10853   other  ...  Father-of-three Lost Control of Car After Over...    1.0\n",
              "7600  10855   other  ...  Evacuation order lifted for town of Roosevelt:...    1.0\n",
              "7601  10859   other  ...  #breaking #LA Refugio oil spill may have been ...    1.0\n",
              "7603  10862   other  ...  Officials say a quarantine is in place at an A...    1.0\n",
              "7604  10863   other  ...  #WorldNews Fallen powerlines on G:link tram: U...    1.0\n",
              "7610  10871   other  ...  M1.94 [01:04 UTC]?5km S of Volcano Hawaii. htt...    1.0\n",
              "4        11   other  ...      Typhoon Soudelor kills 28 in China and Taiwan    NaN\n",
              "6        21   other  ...  They'd probably still show more life than Arse...    NaN\n",
              "7        22   other  ...                                  Hey! How are you?    NaN\n",
              "8        27   other  ...                                   What a nice hat?    NaN\n",
              "9        29   other  ...                                          Fuck off!    NaN\n",
              "10       30   other  ...                              No I don't like cold!    NaN\n",
              "11       35   other  ...                         NOOOOOOOOO! Don't do that!    NaN\n",
              "12       42   other  ...                             No don't tell me that!    NaN\n",
              "13       43   other  ...                                          What if?!    NaN\n",
              "14       45   other  ...                                           Awesome!    NaN\n",
              "3252  10836   other  ...  #Ebola #EbolaOutbreak Ebola Virus: Birmingham ...    NaN\n",
              "3253  10838   other  ...  Malaysian PM confirms debris is from missing f...    NaN\n",
              "3254  10845   other  ...  Officials: Alabama home quarantined over possi...    NaN\n",
              "3256  10857   other  ...  To conference attendees! The blue line from th...    NaN\n",
              "3260  10868   other  ...  Green Line derailment in Chicago http://t.co/U...    NaN\n",
              "3261  10874   other  ...  MEG issues Hazardous Weather Outlook (HWO) htt...    NaN\n",
              "3262  10875   other  ...  #CityofCalgary has activated its Municipal Eme...    NaN\n",
              "\n",
              "[45 rows x 5 columns]"
            ]
          },
          "metadata": {
            "tags": []
          },
          "execution_count": 13
        }
      ]
    },
    {
      "cell_type": "code",
      "metadata": {
        "colab": {
          "base_uri": "https://localhost:8080/"
        },
        "id": "vYby2eWxGSTB",
        "outputId": "96f62252-fc01-491d-9cb6-e3420cb692c2"
      },
      "source": [
        "#location\r\n",
        "all.loc[all['location'].str.contains('Iraq|Pakistan'), 'location'] = 'Asia'\r\n",
        "all.loc[all['location'].str.contains('Las Vegas'), 'location'] = 'Las Vegas'\r\n",
        "all.loc[all['location'].str.contains('Irleand|Dublin'), 'location'] = 'Irleand'\r\n",
        "all.loc[all['location'].str.contains('OH|Ohio'), 'location'] = 'Ohio'\r\n",
        "all.loc[all['location'].str.contains('Brazil'), 'location'] = 'Brasil'\r\n",
        "all.loc[all['location'].str.contains('MO|Kansas City'), 'location'] = 'Missouri'\r\n",
        "all.loc[all['location'].str.contains('umbai|India'), 'location'] = 'India'\r\n",
        "all.loc[all['location'].str.contains('Italy|France|Switzerland|Netherlands|Germany|Sweden|Geneva|Rome|Spain'), 'location'] = 'Europe'\r\n",
        "all.loc[all['location'].str.contains('Nigeria|Lagos'), 'location'] = 'Nigeria'\r\n",
        "all.loc[all['location'].str.contains('Japan|Tokyo'), 'location'] = 'Japan'\r\n",
        "all.loc[all['location'].str.contains('Virginia|VA'), 'location'] = 'Virginia'\r\n",
        "all.loc[all['location'].str.contains('Hong Kong|china|China'), 'location'] = 'China'\r\n",
        "all.loc[all['location'].str.contains('Edinburgh'), 'location'] = 'Scotland'\r\n",
        "all.loc[all['location'].str.contains('NC|North Carolina'), 'location'] = 'North Carolina'\r\n",
        "all.loc[all['location'].str.contains('Portland'), 'location'] = 'Portland'\r\n",
        "all.loc[all['location'].str.contains('Boston|WI|PA|IA|Poenix|Georgia|America|United States|Unites States|U.S.A|US|U.S.|Wisconsin|New Hampshire|Arizona|Midwest|Indiana|Maryland|Pennsylvania|Puerto Rico|Oregon|Michigan'), 'location'] = 'USA'\r\n",
        "all.loc[all['location'].str.contains('NJ|NY|New York|NYC|york|nyc'), 'location'] = 'New York'\r\n",
        "all.loc[all['location'].str.contains('Sydney'), 'location'] = 'Sydney'\r\n",
        "all.loc[all['location'].str.contains('ondon|United Kingdom|England|Coventry|Birmingham|Paignton|Liverpool|Glasgow|Newcastle|UK|Manchester'), 'location'] = 'UK'\r\n",
        "all.loc[all['location'].str.contains('Australia|Melbourne|Sydney'), 'location'] = 'Australia'\r\n",
        "all.loc[all['location'].str.contains('California|San Diego|Sacramento|San Francisco'), 'location'] = 'California'\r\n",
        "all.loc[all['location'].str.contains('Washington'), 'location'] = 'Washington'\r\n",
        "all.loc[all['location'].str.contains('Chicago'), 'location'] = 'Chicago'\r\n",
        "all.loc[all['location'].str.contains('Los Angeles|Subconscious|LA'), 'location'] = 'Los Angeles'\r\n",
        "all.loc[all['location'].str.contains('Seattle, WA'), 'location'] = 'Seattle'\r\n",
        "all.loc[all['location'].str.contains('World|orldwide|Earth|Global|The Universe'), 'location'] = 'Everywhere'\r\n",
        "all.loc[all['location'].str.contains('TX|Texas|Houston'), 'location'] = 'Texas'\r\n",
        "all.loc[all['location'].str.contains('CA|Canada|Toronto|Vancouver|canada|Calgary'), 'location'] = 'Canada'\r\n",
        "all.loc[all['location'].str.contains('TN'), 'location'] = 'Tennessee'\r\n",
        "all.loc[all['location'].str.contains('FL|Orlando'), 'location'] = 'Florida'\r\n",
        "all.loc[all['location'].str.contains('304|house|hell|Taylor|Tunes|stairs|Coffee|ss|Money|Happily Married|MAD as Hell|Billionaires|Word|Pedophile|Narnia|Your screen|Here|Jupiter|Anonymous|really|Breaking|where|All|Some|Innerhalb|Sky|BROKE|Can|Sky'), 'location'] = 'other'\r\n",
        "all.loc[all['location'].str.contains('Lagos'), 'location'] = 'Lagos'\r\n",
        "all.loc[all['location'].str.contains('Denver'), 'location'] = 'Denver'\r\n",
        "all.loc[all['location'].str.contains('New Jersey'), 'location'] = 'New Jersey'\r\n",
        "all.loc[all['location'].str.contains('Calgary'), 'location'] = 'Calgary'\r\n",
        "all.loc[all['location'].str.contains('Atlanta|atlanta'), 'location'] = 'Atlanta'\r\n",
        "all.loc[all['location'].str.contains('Detroit'), 'location'] = 'Michigan'\r\n",
        "\r\n",
        "\r\n",
        "# occur <20 times -> change to 'other'\r\n",
        "ln = all.groupby('location').location.count().sort_values(ascending=False)\r\n",
        "ln = ln[ln.values <= 20].index\r\n",
        "\r\n",
        "for loc in ln:\r\n",
        "    all.loc[(all.location == loc), 'location'] = 'other'\r\n",
        "all.groupby('location').location.count().sort_values()"
      ],
      "execution_count": 14,
      "outputs": [
        {
          "output_type": "execute_result",
          "data": {
            "text/plain": [
              "location\n",
              "China               21\n",
              "Portland            21\n",
              "Las Vegas           25\n",
              "Atlanta             26\n",
              "New Jersey          27\n",
              "Seattle             28\n",
              "Asia                31\n",
              "Denver              31\n",
              "Japan               31\n",
              "Kenya               32\n",
              "Virginia            61\n",
              "Chicago             63\n",
              "Ohio                63\n",
              "North Carolina      82\n",
              "Washington          88\n",
              "Nigeria             90\n",
              "Florida             92\n",
              "Europe              94\n",
              "Los Angeles         99\n",
              "Australia          117\n",
              "India              127\n",
              "Texas              149\n",
              "California         161\n",
              "New York           352\n",
              "UK                 428\n",
              "USA                736\n",
              "other             7801\n",
              "Name: location, dtype: int64"
            ]
          },
          "metadata": {
            "tags": []
          },
          "execution_count": 14
        }
      ]
    },
    {
      "cell_type": "code",
      "metadata": {
        "id": "Lq6cEBozPhgj"
      },
      "source": [
        "#new features\r\n",
        "all['length_text'] = all['text'].str.len()\r\n",
        "all['length_keyword'] = all['keyword'].str.len()\r\n",
        "all['length_location'] = all['location'].str.len()\r\n",
        "all['word_count'] = all['text'].str.split().str.len()\r\n",
        "all['is_upper_text'] = all['text'].str.count(r'[A-Z]')\r\n",
        "all['is_digit_text'] = all['text'].str.count(r'[0-9]')\r\n",
        "all['%_upper_text'] = all['is_upper_text']/all['length_text']\r\n",
        "all['is_#'] = all['text'].str.count(r'#')\r\n",
        "all.loc[(all['text'].str.contains(\"http\")), 'is_url'] = 1\r\n",
        "all.loc[all['is_url'].isnull(), 'is_url'] = 0\r\n",
        "all['is_@'] = all['text'].str.count(r'@')"
      ],
      "execution_count": 15,
      "outputs": []
    },
    {
      "cell_type": "code",
      "metadata": {
        "colab": {
          "base_uri": "https://localhost:8080/",
          "height": 1000
        },
        "id": "z2_IdfCJQeLs",
        "outputId": "95320119-53e8-4386-bc13-f5ba69c2ff61"
      },
      "source": [
        "all.head(20)"
      ],
      "execution_count": 16,
      "outputs": [
        {
          "output_type": "execute_result",
          "data": {
            "text/html": [
              "<div>\n",
              "<style scoped>\n",
              "    .dataframe tbody tr th:only-of-type {\n",
              "        vertical-align: middle;\n",
              "    }\n",
              "\n",
              "    .dataframe tbody tr th {\n",
              "        vertical-align: top;\n",
              "    }\n",
              "\n",
              "    .dataframe thead th {\n",
              "        text-align: right;\n",
              "    }\n",
              "</style>\n",
              "<table border=\"1\" class=\"dataframe\">\n",
              "  <thead>\n",
              "    <tr style=\"text-align: right;\">\n",
              "      <th></th>\n",
              "      <th>id</th>\n",
              "      <th>keyword</th>\n",
              "      <th>location</th>\n",
              "      <th>text</th>\n",
              "      <th>target</th>\n",
              "      <th>length_text</th>\n",
              "      <th>length_keyword</th>\n",
              "      <th>length_location</th>\n",
              "      <th>word_count</th>\n",
              "      <th>is_upper_text</th>\n",
              "      <th>is_digit_text</th>\n",
              "      <th>%_upper_text</th>\n",
              "      <th>is_#</th>\n",
              "      <th>is_url</th>\n",
              "      <th>is_@</th>\n",
              "    </tr>\n",
              "  </thead>\n",
              "  <tbody>\n",
              "    <tr>\n",
              "      <th>0</th>\n",
              "      <td>1</td>\n",
              "      <td>earthquake</td>\n",
              "      <td>other</td>\n",
              "      <td>Our Deeds are the Reason of this #earthquake M...</td>\n",
              "      <td>1.0</td>\n",
              "      <td>69</td>\n",
              "      <td>10</td>\n",
              "      <td>5</td>\n",
              "      <td>13</td>\n",
              "      <td>10</td>\n",
              "      <td>0</td>\n",
              "      <td>0.144928</td>\n",
              "      <td>1</td>\n",
              "      <td>0.0</td>\n",
              "      <td>0</td>\n",
              "    </tr>\n",
              "    <tr>\n",
              "      <th>1</th>\n",
              "      <td>4</td>\n",
              "      <td>fire</td>\n",
              "      <td>other</td>\n",
              "      <td>Forest fire near La Ronge Sask. Canada</td>\n",
              "      <td>1.0</td>\n",
              "      <td>38</td>\n",
              "      <td>4</td>\n",
              "      <td>5</td>\n",
              "      <td>7</td>\n",
              "      <td>5</td>\n",
              "      <td>0</td>\n",
              "      <td>0.131579</td>\n",
              "      <td>0</td>\n",
              "      <td>0.0</td>\n",
              "      <td>0</td>\n",
              "    </tr>\n",
              "    <tr>\n",
              "      <th>2</th>\n",
              "      <td>5</td>\n",
              "      <td>other</td>\n",
              "      <td>other</td>\n",
              "      <td>All residents asked to 'shelter in place' are ...</td>\n",
              "      <td>1.0</td>\n",
              "      <td>133</td>\n",
              "      <td>5</td>\n",
              "      <td>5</td>\n",
              "      <td>22</td>\n",
              "      <td>2</td>\n",
              "      <td>0</td>\n",
              "      <td>0.015038</td>\n",
              "      <td>0</td>\n",
              "      <td>0.0</td>\n",
              "      <td>0</td>\n",
              "    </tr>\n",
              "    <tr>\n",
              "      <th>3</th>\n",
              "      <td>6</td>\n",
              "      <td>fire</td>\n",
              "      <td>other</td>\n",
              "      <td>13,000 people receive #wildfires evacuation or...</td>\n",
              "      <td>1.0</td>\n",
              "      <td>65</td>\n",
              "      <td>4</td>\n",
              "      <td>5</td>\n",
              "      <td>8</td>\n",
              "      <td>1</td>\n",
              "      <td>5</td>\n",
              "      <td>0.015385</td>\n",
              "      <td>1</td>\n",
              "      <td>0.0</td>\n",
              "      <td>0</td>\n",
              "    </tr>\n",
              "    <tr>\n",
              "      <th>4</th>\n",
              "      <td>7</td>\n",
              "      <td>fire</td>\n",
              "      <td>other</td>\n",
              "      <td>Just got sent this photo from Ruby #Alaska as ...</td>\n",
              "      <td>1.0</td>\n",
              "      <td>88</td>\n",
              "      <td>4</td>\n",
              "      <td>5</td>\n",
              "      <td>16</td>\n",
              "      <td>3</td>\n",
              "      <td>0</td>\n",
              "      <td>0.034091</td>\n",
              "      <td>2</td>\n",
              "      <td>0.0</td>\n",
              "      <td>0</td>\n",
              "    </tr>\n",
              "    <tr>\n",
              "      <th>5</th>\n",
              "      <td>8</td>\n",
              "      <td>fire</td>\n",
              "      <td>other</td>\n",
              "      <td>#RockyFire Update =&gt; California Hwy. 20 closed...</td>\n",
              "      <td>1.0</td>\n",
              "      <td>110</td>\n",
              "      <td>4</td>\n",
              "      <td>5</td>\n",
              "      <td>18</td>\n",
              "      <td>9</td>\n",
              "      <td>2</td>\n",
              "      <td>0.081818</td>\n",
              "      <td>3</td>\n",
              "      <td>0.0</td>\n",
              "      <td>0</td>\n",
              "    </tr>\n",
              "    <tr>\n",
              "      <th>6</th>\n",
              "      <td>10</td>\n",
              "      <td>flooding</td>\n",
              "      <td>other</td>\n",
              "      <td>#flood #disaster Heavy rain causes flash flood...</td>\n",
              "      <td>1.0</td>\n",
              "      <td>95</td>\n",
              "      <td>8</td>\n",
              "      <td>5</td>\n",
              "      <td>14</td>\n",
              "      <td>4</td>\n",
              "      <td>0</td>\n",
              "      <td>0.042105</td>\n",
              "      <td>2</td>\n",
              "      <td>0.0</td>\n",
              "      <td>0</td>\n",
              "    </tr>\n",
              "    <tr>\n",
              "      <th>7</th>\n",
              "      <td>13</td>\n",
              "      <td>fire</td>\n",
              "      <td>other</td>\n",
              "      <td>I'm on top of the hill and I can see a fire in...</td>\n",
              "      <td>1.0</td>\n",
              "      <td>59</td>\n",
              "      <td>4</td>\n",
              "      <td>5</td>\n",
              "      <td>15</td>\n",
              "      <td>2</td>\n",
              "      <td>0</td>\n",
              "      <td>0.033898</td>\n",
              "      <td>0</td>\n",
              "      <td>0.0</td>\n",
              "      <td>0</td>\n",
              "    </tr>\n",
              "    <tr>\n",
              "      <th>8</th>\n",
              "      <td>14</td>\n",
              "      <td>emergency</td>\n",
              "      <td>other</td>\n",
              "      <td>There's an emergency evacuation happening now ...</td>\n",
              "      <td>1.0</td>\n",
              "      <td>79</td>\n",
              "      <td>9</td>\n",
              "      <td>5</td>\n",
              "      <td>12</td>\n",
              "      <td>1</td>\n",
              "      <td>0</td>\n",
              "      <td>0.012658</td>\n",
              "      <td>0</td>\n",
              "      <td>0.0</td>\n",
              "      <td>0</td>\n",
              "    </tr>\n",
              "    <tr>\n",
              "      <th>9</th>\n",
              "      <td>15</td>\n",
              "      <td>windstorm</td>\n",
              "      <td>other</td>\n",
              "      <td>I'm afraid that the tornado is coming to our a...</td>\n",
              "      <td>1.0</td>\n",
              "      <td>52</td>\n",
              "      <td>9</td>\n",
              "      <td>5</td>\n",
              "      <td>10</td>\n",
              "      <td>1</td>\n",
              "      <td>0</td>\n",
              "      <td>0.019231</td>\n",
              "      <td>0</td>\n",
              "      <td>0.0</td>\n",
              "      <td>0</td>\n",
              "    </tr>\n",
              "    <tr>\n",
              "      <th>10</th>\n",
              "      <td>16</td>\n",
              "      <td>heat</td>\n",
              "      <td>other</td>\n",
              "      <td>Three people died from the heat wave so far</td>\n",
              "      <td>1.0</td>\n",
              "      <td>43</td>\n",
              "      <td>4</td>\n",
              "      <td>5</td>\n",
              "      <td>9</td>\n",
              "      <td>1</td>\n",
              "      <td>0</td>\n",
              "      <td>0.023256</td>\n",
              "      <td>0</td>\n",
              "      <td>0.0</td>\n",
              "      <td>0</td>\n",
              "    </tr>\n",
              "    <tr>\n",
              "      <th>11</th>\n",
              "      <td>17</td>\n",
              "      <td>flooding</td>\n",
              "      <td>other</td>\n",
              "      <td>Haha South Tampa is getting flooded hah- WAIT ...</td>\n",
              "      <td>1.0</td>\n",
              "      <td>129</td>\n",
              "      <td>8</td>\n",
              "      <td>5</td>\n",
              "      <td>27</td>\n",
              "      <td>63</td>\n",
              "      <td>0</td>\n",
              "      <td>0.488372</td>\n",
              "      <td>1</td>\n",
              "      <td>0.0</td>\n",
              "      <td>0</td>\n",
              "    </tr>\n",
              "    <tr>\n",
              "      <th>12</th>\n",
              "      <td>18</td>\n",
              "      <td>flooding</td>\n",
              "      <td>other</td>\n",
              "      <td>#raining #flooding #Florida #TampaBay #Tampa 1...</td>\n",
              "      <td>1.0</td>\n",
              "      <td>76</td>\n",
              "      <td>8</td>\n",
              "      <td>5</td>\n",
              "      <td>12</td>\n",
              "      <td>5</td>\n",
              "      <td>4</td>\n",
              "      <td>0.065789</td>\n",
              "      <td>5</td>\n",
              "      <td>0.0</td>\n",
              "      <td>0</td>\n",
              "    </tr>\n",
              "    <tr>\n",
              "      <th>13</th>\n",
              "      <td>19</td>\n",
              "      <td>flooding</td>\n",
              "      <td>other</td>\n",
              "      <td>#Flood in Bago Myanmar #We arrived Bago</td>\n",
              "      <td>1.0</td>\n",
              "      <td>39</td>\n",
              "      <td>8</td>\n",
              "      <td>5</td>\n",
              "      <td>7</td>\n",
              "      <td>5</td>\n",
              "      <td>0</td>\n",
              "      <td>0.128205</td>\n",
              "      <td>2</td>\n",
              "      <td>0.0</td>\n",
              "      <td>0</td>\n",
              "    </tr>\n",
              "    <tr>\n",
              "      <th>14</th>\n",
              "      <td>20</td>\n",
              "      <td>crash</td>\n",
              "      <td>other</td>\n",
              "      <td>Damage to school bus on 80 in multi car crash ...</td>\n",
              "      <td>1.0</td>\n",
              "      <td>56</td>\n",
              "      <td>5</td>\n",
              "      <td>5</td>\n",
              "      <td>11</td>\n",
              "      <td>9</td>\n",
              "      <td>2</td>\n",
              "      <td>0.160714</td>\n",
              "      <td>1</td>\n",
              "      <td>0.0</td>\n",
              "      <td>0</td>\n",
              "    </tr>\n",
              "    <tr>\n",
              "      <th>15</th>\n",
              "      <td>23</td>\n",
              "      <td>other</td>\n",
              "      <td>other</td>\n",
              "      <td>What's up man?</td>\n",
              "      <td>0.0</td>\n",
              "      <td>14</td>\n",
              "      <td>5</td>\n",
              "      <td>5</td>\n",
              "      <td>3</td>\n",
              "      <td>1</td>\n",
              "      <td>0</td>\n",
              "      <td>0.071429</td>\n",
              "      <td>0</td>\n",
              "      <td>0.0</td>\n",
              "      <td>0</td>\n",
              "    </tr>\n",
              "    <tr>\n",
              "      <th>16</th>\n",
              "      <td>24</td>\n",
              "      <td>other</td>\n",
              "      <td>other</td>\n",
              "      <td>I love fruits</td>\n",
              "      <td>0.0</td>\n",
              "      <td>13</td>\n",
              "      <td>5</td>\n",
              "      <td>5</td>\n",
              "      <td>3</td>\n",
              "      <td>1</td>\n",
              "      <td>0</td>\n",
              "      <td>0.076923</td>\n",
              "      <td>0</td>\n",
              "      <td>0.0</td>\n",
              "      <td>0</td>\n",
              "    </tr>\n",
              "    <tr>\n",
              "      <th>17</th>\n",
              "      <td>25</td>\n",
              "      <td>other</td>\n",
              "      <td>other</td>\n",
              "      <td>Summer is lovely</td>\n",
              "      <td>0.0</td>\n",
              "      <td>16</td>\n",
              "      <td>5</td>\n",
              "      <td>5</td>\n",
              "      <td>3</td>\n",
              "      <td>1</td>\n",
              "      <td>0</td>\n",
              "      <td>0.062500</td>\n",
              "      <td>0</td>\n",
              "      <td>0.0</td>\n",
              "      <td>0</td>\n",
              "    </tr>\n",
              "    <tr>\n",
              "      <th>18</th>\n",
              "      <td>26</td>\n",
              "      <td>crash</td>\n",
              "      <td>other</td>\n",
              "      <td>My car is so fast</td>\n",
              "      <td>0.0</td>\n",
              "      <td>17</td>\n",
              "      <td>5</td>\n",
              "      <td>5</td>\n",
              "      <td>5</td>\n",
              "      <td>1</td>\n",
              "      <td>0</td>\n",
              "      <td>0.058824</td>\n",
              "      <td>0</td>\n",
              "      <td>0.0</td>\n",
              "      <td>0</td>\n",
              "    </tr>\n",
              "    <tr>\n",
              "      <th>19</th>\n",
              "      <td>28</td>\n",
              "      <td>other</td>\n",
              "      <td>other</td>\n",
              "      <td>What a goooooooaaaaaal!!!!!!</td>\n",
              "      <td>0.0</td>\n",
              "      <td>28</td>\n",
              "      <td>5</td>\n",
              "      <td>5</td>\n",
              "      <td>3</td>\n",
              "      <td>1</td>\n",
              "      <td>0</td>\n",
              "      <td>0.035714</td>\n",
              "      <td>0</td>\n",
              "      <td>0.0</td>\n",
              "      <td>0</td>\n",
              "    </tr>\n",
              "  </tbody>\n",
              "</table>\n",
              "</div>"
            ],
            "text/plain": [
              "    id     keyword location  ... is_#  is_url  is_@\n",
              "0    1  earthquake    other  ...    1     0.0     0\n",
              "1    4        fire    other  ...    0     0.0     0\n",
              "2    5       other    other  ...    0     0.0     0\n",
              "3    6        fire    other  ...    1     0.0     0\n",
              "4    7        fire    other  ...    2     0.0     0\n",
              "5    8        fire    other  ...    3     0.0     0\n",
              "6   10    flooding    other  ...    2     0.0     0\n",
              "7   13        fire    other  ...    0     0.0     0\n",
              "8   14   emergency    other  ...    0     0.0     0\n",
              "9   15   windstorm    other  ...    0     0.0     0\n",
              "10  16        heat    other  ...    0     0.0     0\n",
              "11  17    flooding    other  ...    1     0.0     0\n",
              "12  18    flooding    other  ...    5     0.0     0\n",
              "13  19    flooding    other  ...    2     0.0     0\n",
              "14  20       crash    other  ...    1     0.0     0\n",
              "15  23       other    other  ...    0     0.0     0\n",
              "16  24       other    other  ...    0     0.0     0\n",
              "17  25       other    other  ...    0     0.0     0\n",
              "18  26       crash    other  ...    0     0.0     0\n",
              "19  28       other    other  ...    0     0.0     0\n",
              "\n",
              "[20 rows x 15 columns]"
            ]
          },
          "metadata": {
            "tags": []
          },
          "execution_count": 16
        }
      ]
    },
    {
      "cell_type": "code",
      "metadata": {
        "id": "v5-d-KAIQffN"
      },
      "source": [
        "import re\r\n",
        "def re_urls(text, replace_for=\"URL\"):\r\n",
        "    return re.sub(r'https?://\\S+', replace_for, text) \r\n",
        "\r\n",
        "def re_digits(text, replace_for='DIGIT'): \r\n",
        "    result = re.sub(r'\\d+', replace_for, text) \r\n",
        "    return result\r\n",
        "\r\n",
        "def preprocessing(doc):\r\n",
        "    doc = re_urls(doc)\r\n",
        "    doc = re_digits(doc)\r\n",
        "    return doc\r\n",
        "\r\n",
        "all['text_aprep'] = all['text'].map(preprocessing).values"
      ],
      "execution_count": 17,
      "outputs": []
    },
    {
      "cell_type": "code",
      "metadata": {
        "id": "0ZdIZRUVTdcr"
      },
      "source": [
        "#split to test/train again\r\n",
        "train2 = all[ ~all['target'].isnull() ].copy()\r\n",
        "test2 = all[ all['target'].isnull() ].copy()"
      ],
      "execution_count": 18,
      "outputs": []
    },
    {
      "cell_type": "code",
      "metadata": {
        "id": "JpO199xfUEfc"
      },
      "source": [
        "import numpy as np\r\n",
        "import matplotlib.pyplot as plt\r\n",
        "import seaborn as sns"
      ],
      "execution_count": 19,
      "outputs": []
    },
    {
      "cell_type": "code",
      "metadata": {
        "colab": {
          "base_uri": "https://localhost:8080/",
          "height": 439
        },
        "id": "WcRO93QeUbjz",
        "outputId": "12ba22e3-3431-485f-eae2-d04e993bc833"
      },
      "source": [
        "plt.figure(figsize=(10,5))\r\n",
        "fig = sns.distplot(a=train2[train2['target']==0.0][\"is_#\"], \r\n",
        "                   hist=True, bins=25, kde=False, color=\"green\", \r\n",
        "                   label='no disaster tweet')\r\n",
        "fig = sns.distplot(a=train2[train2['target']==1.0][\"is_#\"], \r\n",
        "                   hist=True, bins=25, kde=False, color=\"red\", \r\n",
        "                   label='disaster tweet')\r\n",
        "fig.legend()\r\n",
        "fig.set(title='is #');"
      ],
      "execution_count": null,
      "outputs": [
        {
          "output_type": "stream",
          "text": [
            "/usr/local/lib/python3.7/dist-packages/seaborn/distributions.py:2557: FutureWarning: `distplot` is a deprecated function and will be removed in a future version. Please adapt your code to use either `displot` (a figure-level function with similar flexibility) or `histplot` (an axes-level function for histograms).\n",
            "  warnings.warn(msg, FutureWarning)\n",
            "/usr/local/lib/python3.7/dist-packages/seaborn/distributions.py:2557: FutureWarning: `distplot` is a deprecated function and will be removed in a future version. Please adapt your code to use either `displot` (a figure-level function with similar flexibility) or `histplot` (an axes-level function for histograms).\n",
            "  warnings.warn(msg, FutureWarning)\n"
          ],
          "name": "stderr"
        },
        {
          "output_type": "display_data",
          "data": {
            "image/png": "[encoded data removed]",
            "text/plain": [
              "<Figure size 720x360 with 1 Axes>"
            ]
          },
          "metadata": {
            "tags": [],
            "needs_background": "light"
          }
        }
      ]
    },
    {
      "cell_type": "code",
      "metadata": {
        "colab": {
          "base_uri": "https://localhost:8080/",
          "height": 439
        },
        "id": "0dDVONqRWTlW",
        "outputId": "66256f0c-a69d-4fa4-c9a9-5d6aaddb5f94"
      },
      "source": [
        "\r\n",
        "plt.figure(figsize=(10,5))\r\n",
        "fig = sns.distplot(a=train2[train2['target']==0.0][\"length_text\"], \r\n",
        "                   hist=True, bins=25, kde=False, color=\"green\", \r\n",
        "                   label='no disaster tweet')\r\n",
        "fig = sns.distplot(a=train2[train2['target']==1.0][\"length_text\"], \r\n",
        "                   hist=True, bins=25, kde=False, color=\"red\", \r\n",
        "                   label='disaster tweet')\r\n",
        "fig.legend()\r\n",
        "fig.set(title='length_text');"
      ],
      "execution_count": null,
      "outputs": [
        {
          "output_type": "stream",
          "text": [
            "/usr/local/lib/python3.6/dist-packages/seaborn/distributions.py:2557: FutureWarning: `distplot` is a deprecated function and will be removed in a future version. Please adapt your code to use either `displot` (a figure-level function with similar flexibility) or `histplot` (an axes-level function for histograms).\n",
            "  warnings.warn(msg, FutureWarning)\n",
            "/usr/local/lib/python3.6/dist-packages/seaborn/distributions.py:2557: FutureWarning: `distplot` is a deprecated function and will be removed in a future version. Please adapt your code to use either `displot` (a figure-level function with similar flexibility) or `histplot` (an axes-level function for histograms).\n",
            "  warnings.warn(msg, FutureWarning)\n"
          ],
          "name": "stderr"
        },
        {
          "output_type": "display_data",
          "data": {
            "image/png": "[encoded data removed]",
            "text/plain": [
              "<Figure size 720x360 with 1 Axes>"
            ]
          },
          "metadata": {
            "tags": [],
            "needs_background": "light"
          }
        }
      ]
    },
    {
      "cell_type": "code",
      "metadata": {
        "colab": {
          "base_uri": "https://localhost:8080/",
          "height": 279
        },
        "id": "ef0jQaK4XQaL",
        "outputId": "a43172d4-ff49-4241-e4ae-41d0f3ff220f"
      },
      "source": [
        "ax = sns.boxplot(x=\"target\", y=\"length_text\", data=train2, orient='v', color = 'blue')"
      ],
      "execution_count": null,
      "outputs": [
        {
          "output_type": "display_data",
          "data": {
            "image/png": "[encoded data removed]",
            "text/plain": [
              "<Figure size 432x288 with 1 Axes>"
            ]
          },
          "metadata": {
            "tags": [],
            "needs_background": "light"
          }
        }
      ]
    },
    {
      "cell_type": "code",
      "metadata": {
        "colab": {
          "base_uri": "https://localhost:8080/",
          "height": 279
        },
        "id": "o5xIKh3FYrho",
        "outputId": "87b0e1db-c110-4bbf-d7f3-a412f5c1f286"
      },
      "source": [
        "ax = sns.boxplot(x=\"target\", y=\"word_count\", data=train2, orient='v', color = 'blue')"
      ],
      "execution_count": null,
      "outputs": [
        {
          "output_type": "display_data",
          "data": {
            "image/png": "[encoded data removed]",
            "text/plain": [
              "<Figure size 432x288 with 1 Axes>"
            ]
          },
          "metadata": {
            "tags": [],
            "needs_background": "light"
          }
        }
      ]
    },
    {
      "cell_type": "code",
      "metadata": {
        "colab": {
          "base_uri": "https://localhost:8080/",
          "height": 439
        },
        "id": "lgcs9lJsZiOt",
        "outputId": "fe37d23f-5987-416d-faf2-929a72afcfea"
      },
      "source": [
        "plt.figure(figsize=(10,5))\r\n",
        "fig = sns.distplot(a=train2[train2['target']==0.0][\"%_upper_text\"], \r\n",
        "                   hist=True, bins=25, kde=False, color=\"green\", \r\n",
        "                   label='no disaster tweet')\r\n",
        "fig = sns.distplot(a=train2[train2['target']==1.0][\"%_upper_text\"], \r\n",
        "                   hist=True, bins=25, kde=False, color=\"red\", \r\n",
        "                   label='disaster tweet')\r\n",
        "fig.legend()\r\n",
        "fig.set(title='%_upper_text');"
      ],
      "execution_count": null,
      "outputs": [
        {
          "output_type": "stream",
          "text": [
            "/usr/local/lib/python3.6/dist-packages/seaborn/distributions.py:2557: FutureWarning: `distplot` is a deprecated function and will be removed in a future version. Please adapt your code to use either `displot` (a figure-level function with similar flexibility) or `histplot` (an axes-level function for histograms).\n",
            "  warnings.warn(msg, FutureWarning)\n",
            "/usr/local/lib/python3.6/dist-packages/seaborn/distributions.py:2557: FutureWarning: `distplot` is a deprecated function and will be removed in a future version. Please adapt your code to use either `displot` (a figure-level function with similar flexibility) or `histplot` (an axes-level function for histograms).\n",
            "  warnings.warn(msg, FutureWarning)\n"
          ],
          "name": "stderr"
        },
        {
          "output_type": "display_data",
          "data": {
            "image/png": "[encoded data removed]",
            "text/plain": [
              "<Figure size 720x360 with 1 Axes>"
            ]
          },
          "metadata": {
            "tags": [],
            "needs_background": "light"
          }
        }
      ]
    },
    {
      "cell_type": "code",
      "metadata": {
        "colab": {
          "base_uri": "https://localhost:8080/",
          "height": 439
        },
        "id": "Eeto_r2IZqdd",
        "outputId": "201f0b31-1499-4abb-ba65-a67eb6ca2579"
      },
      "source": [
        "\r\n",
        "plt.figure(figsize=(10,5))\r\n",
        "fig = sns.distplot(a=train2[train2['target']==0.0][\"is_@\"], \r\n",
        "                   hist=True, bins=25, kde=False, color=\"green\", \r\n",
        "                   label='no disaster tweet')\r\n",
        "fig = sns.distplot(a=train2[train2['target']==1.0][\"is_@\"], \r\n",
        "                   hist=True, bins=25, kde=False, color=\"red\", \r\n",
        "                   label='disaster tweet')\r\n",
        "fig.legend()\r\n",
        "fig.set(title='length_text');"
      ],
      "execution_count": null,
      "outputs": [
        {
          "output_type": "stream",
          "text": [
            "/usr/local/lib/python3.6/dist-packages/seaborn/distributions.py:2557: FutureWarning: `distplot` is a deprecated function and will be removed in a future version. Please adapt your code to use either `displot` (a figure-level function with similar flexibility) or `histplot` (an axes-level function for histograms).\n",
            "  warnings.warn(msg, FutureWarning)\n",
            "/usr/local/lib/python3.6/dist-packages/seaborn/distributions.py:2557: FutureWarning: `distplot` is a deprecated function and will be removed in a future version. Please adapt your code to use either `displot` (a figure-level function with similar flexibility) or `histplot` (an axes-level function for histograms).\n",
            "  warnings.warn(msg, FutureWarning)\n"
          ],
          "name": "stderr"
        },
        {
          "output_type": "display_data",
          "data": {
            "image/png": "[encoded data removed]",
            "text/plain": [
              "<Figure size 720x360 with 1 Axes>"
            ]
          },
          "metadata": {
            "tags": [],
            "needs_background": "light"
          }
        }
      ]
    },
    {
      "cell_type": "markdown",
      "metadata": {
        "id": "qF-vSIp-bOZd"
      },
      "source": [
        "## **Fast** **Text**"
      ]
    },
    {
      "cell_type": "code",
      "metadata": {
        "colab": {
          "base_uri": "https://localhost:8080/",
          "height": 312
        },
        "id": "Kz_2K2umbVto",
        "outputId": "36c8a9ff-331b-4818-d252-718da2986e2d"
      },
      "source": [
        "from gensim.utils import simple_preprocess\r\n",
        "import catboost as ctb\r\n",
        "from gensim.models import FastText\r\n",
        "from scikitplot.estimators import plot_learning_curve\r\n",
        "\r\n",
        "train2['simple_tokens'] = train2['text_aprep'].map(simple_preprocess)\r\n",
        "\r\n",
        "model = FastText(train2['simple_tokens'], size=50, window=3, seed=0)\r\n",
        "\r\n",
        " #funkcja get_doc2vec_X z wektoryzajca i policzona srednia z wektorow\r\n",
        "def get_doc2vec_X(model, tokens):\r\n",
        "    def __calc_doc2vec(words):   #wektoryzacja\r\n",
        "        return np.mean([model.wv[w] for w in words if w in model.wv], axis=0)\r\n",
        "\r\n",
        "    X = tokens.map(__calc_doc2vec)\r\n",
        "    default_vector = X[ False == X.isnull() ].mean()\r\n",
        "    return np.stack( X.map(lambda x: default_vector if str(x) == 'nan' else x) )\r\n",
        "\r\n",
        "\r\n",
        "model = FastText(train2['simple_tokens'], size=100, window=4, seed=0)\r\n",
        "X = get_doc2vec_X(model, train2['simple_tokens'])\r\n",
        "y = train2['target'].factorize()[0]\r\n",
        "\r\n",
        "fasttext_model = ctb.CatBoostClassifier(max_depth=10, n_estimators=300, verbose=0, random_state=0, custom_metric='AUC')\r\n",
        "fasttext_model.fit(X, y)\r\n",
        "plot_learning_curve(fasttext_model, X, y, cv=3, random_state=2019, shuffle=True)"
      ],
      "execution_count": null,
      "outputs": [
        {
          "output_type": "execute_result",
          "data": {
            "text/plain": [
              "<matplotlib.axes._subplots.AxesSubplot at 0x7fea256a8cc0>"
            ]
          },
          "metadata": {
            "tags": []
          },
          "execution_count": 146
        },
        {
          "output_type": "display_data",
          "data": {
            "image/png": "[encoded data removed]",
            "text/plain": [
              "<Figure size 432x288 with 1 Axes>"
            ]
          },
          "metadata": {
            "tags": [],
            "needs_background": "light"
          }
        }
      ]
    },
    {
      "cell_type": "code",
      "metadata": {
        "colab": {
          "base_uri": "https://localhost:8080/",
          "height": 669
        },
        "id": "F5bU6cSfbvTL",
        "outputId": "1b7ef510-1704-471c-d942-40270f5514c8"
      },
      "source": [
        "test2['simple_tokens'] = test2['text_aprep'].map(simple_preprocess)\r\n",
        "X_test = get_doc2vec_X(model, test2['simple_tokens'])\r\n",
        "\r\n",
        "\r\n",
        "test2['target'] = fasttext_model.predict(X_test).astype('int32')\r\n",
        "test2[[ 'id', 'target'] ].sample(20)"
      ],
      "execution_count": null,
      "outputs": [
        {
          "output_type": "execute_result",
          "data": {
            "text/html": [
              "<div>\n",
              "<style scoped>\n",
              "    .dataframe tbody tr th:only-of-type {\n",
              "        vertical-align: middle;\n",
              "    }\n",
              "\n",
              "    .dataframe tbody tr th {\n",
              "        vertical-align: top;\n",
              "    }\n",
              "\n",
              "    .dataframe thead th {\n",
              "        text-align: right;\n",
              "    }\n",
              "</style>\n",
              "<table border=\"1\" class=\"dataframe\">\n",
              "  <thead>\n",
              "    <tr style=\"text-align: right;\">\n",
              "      <th></th>\n",
              "      <th>id</th>\n",
              "      <th>target</th>\n",
              "    </tr>\n",
              "  </thead>\n",
              "  <tbody>\n",
              "    <tr>\n",
              "      <th>2503</th>\n",
              "      <td>8340</td>\n",
              "      <td>1</td>\n",
              "    </tr>\n",
              "    <tr>\n",
              "      <th>2495</th>\n",
              "      <td>8325</td>\n",
              "      <td>1</td>\n",
              "    </tr>\n",
              "    <tr>\n",
              "      <th>1588</th>\n",
              "      <td>5369</td>\n",
              "      <td>1</td>\n",
              "    </tr>\n",
              "    <tr>\n",
              "      <th>2652</th>\n",
              "      <td>8868</td>\n",
              "      <td>1</td>\n",
              "    </tr>\n",
              "    <tr>\n",
              "      <th>2097</th>\n",
              "      <td>7035</td>\n",
              "      <td>1</td>\n",
              "    </tr>\n",
              "    <tr>\n",
              "      <th>2392</th>\n",
              "      <td>7997</td>\n",
              "      <td>1</td>\n",
              "    </tr>\n",
              "    <tr>\n",
              "      <th>1650</th>\n",
              "      <td>5562</td>\n",
              "      <td>1</td>\n",
              "    </tr>\n",
              "    <tr>\n",
              "      <th>1081</th>\n",
              "      <td>3563</td>\n",
              "      <td>1</td>\n",
              "    </tr>\n",
              "    <tr>\n",
              "      <th>2537</th>\n",
              "      <td>8467</td>\n",
              "      <td>1</td>\n",
              "    </tr>\n",
              "    <tr>\n",
              "      <th>2131</th>\n",
              "      <td>7127</td>\n",
              "      <td>1</td>\n",
              "    </tr>\n",
              "    <tr>\n",
              "      <th>1707</th>\n",
              "      <td>5767</td>\n",
              "      <td>1</td>\n",
              "    </tr>\n",
              "    <tr>\n",
              "      <th>858</th>\n",
              "      <td>2812</td>\n",
              "      <td>1</td>\n",
              "    </tr>\n",
              "    <tr>\n",
              "      <th>2264</th>\n",
              "      <td>7541</td>\n",
              "      <td>0</td>\n",
              "    </tr>\n",
              "    <tr>\n",
              "      <th>2796</th>\n",
              "      <td>9304</td>\n",
              "      <td>1</td>\n",
              "    </tr>\n",
              "    <tr>\n",
              "      <th>3034</th>\n",
              "      <td>10024</td>\n",
              "      <td>1</td>\n",
              "    </tr>\n",
              "    <tr>\n",
              "      <th>1643</th>\n",
              "      <td>5537</td>\n",
              "      <td>1</td>\n",
              "    </tr>\n",
              "    <tr>\n",
              "      <th>430</th>\n",
              "      <td>1397</td>\n",
              "      <td>1</td>\n",
              "    </tr>\n",
              "    <tr>\n",
              "      <th>2344</th>\n",
              "      <td>7836</td>\n",
              "      <td>1</td>\n",
              "    </tr>\n",
              "    <tr>\n",
              "      <th>434</th>\n",
              "      <td>1404</td>\n",
              "      <td>1</td>\n",
              "    </tr>\n",
              "    <tr>\n",
              "      <th>1402</th>\n",
              "      <td>4626</td>\n",
              "      <td>1</td>\n",
              "    </tr>\n",
              "  </tbody>\n",
              "</table>\n",
              "</div>"
            ],
            "text/plain": [
              "         id  target\n",
              "2503   8340       1\n",
              "2495   8325       1\n",
              "1588   5369       1\n",
              "2652   8868       1\n",
              "2097   7035       1\n",
              "2392   7997       1\n",
              "1650   5562       1\n",
              "1081   3563       1\n",
              "2537   8467       1\n",
              "2131   7127       1\n",
              "1707   5767       1\n",
              "858    2812       1\n",
              "2264   7541       0\n",
              "2796   9304       1\n",
              "3034  10024       1\n",
              "1643   5537       1\n",
              "430    1397       1\n",
              "2344   7836       1\n",
              "434    1404       1\n",
              "1402   4626       1"
            ]
          },
          "metadata": {
            "tags": []
          },
          "execution_count": 148
        }
      ]
    },
    {
      "cell_type": "code",
      "metadata": {
        "id": "jWSgHkzTgfw3"
      },
      "source": [
        "test[ ['id', 'target'] ].to_csv('fasttext.csv', index=False)\r\n",
        "#Kaggle score:  0.29206"
      ],
      "execution_count": null,
      "outputs": []
    },
    {
      "cell_type": "code",
      "metadata": {
        "id": "kkc5ubufg0Da"
      },
      "source": [
        ""
      ],
      "execution_count": null,
      "outputs": []
    },
    {
      "cell_type": "markdown",
      "metadata": {
        "id": "-nWvxVaviM2T"
      },
      "source": [
        "## **BERT**"
      ]
    },
    {
      "cell_type": "markdown",
      "metadata": {
        "id": "T1HWpyHviU60"
      },
      "source": [
        "Pretrained model avaiable on [github](https://github.com/google-research/bert)."
      ]
    },
    {
      "cell_type": "code",
      "metadata": {
        "colab": {
          "base_uri": "https://localhost:8080/"
        },
        "id": "oxubLK1Wibot",
        "outputId": "834ec7bf-b834-46ac-a0b9-318481f0b1d7"
      },
      "source": [
        "!pip install keras_bert"
      ],
      "execution_count": 20,
      "outputs": [
        {
          "output_type": "stream",
          "text": [
            "Collecting keras_bert\n",
            "  Downloading https://files.pythonhosted.org/packages/e2/7f/95fabd29f4502924fa3f09ff6538c5a7d290dfef2c2fe076d3d1a16e08f0/keras-bert-0.86.0.tar.gz\n",
            "Requirement already satisfied: numpy in /usr/local/lib/python3.7/dist-packages (from keras_bert) (1.19.5)\n",
            "Requirement already satisfied: Keras>=2.4.3 in /usr/local/lib/python3.7/dist-packages (from keras_bert) (2.4.3)\n",
            "Collecting keras-transformer>=0.38.0\n",
            "  Downloading https://files.pythonhosted.org/packages/89/6c/d6f0c164f4cc16fbc0d0fea85f5526e87a7d2df7b077809e422a7e626150/keras-transformer-0.38.0.tar.gz\n",
            "Requirement already satisfied: h5py in /usr/local/lib/python3.7/dist-packages (from Keras>=2.4.3->keras_bert) (2.10.0)\n",
            "Requirement already satisfied: pyyaml in /usr/local/lib/python3.7/dist-packages (from Keras>=2.4.3->keras_bert) (3.13)\n",
            "Requirement already satisfied: scipy>=0.14 in /usr/local/lib/python3.7/dist-packages (from Keras>=2.4.3->keras_bert) (1.4.1)\n",
            "Collecting keras-pos-embd>=0.11.0\n",
            "  Downloading https://files.pythonhosted.org/packages/09/70/b63ed8fc660da2bb6ae29b9895401c628da5740c048c190b5d7107cadd02/keras-pos-embd-0.11.0.tar.gz\n",
            "Collecting keras-multi-head>=0.27.0\n",
            "  Downloading https://files.pythonhosted.org/packages/e6/32/45adf2549450aca7867deccfa04af80a0ab1ca139af44b16bc669e0e09cd/keras-multi-head-0.27.0.tar.gz\n",
            "Collecting keras-layer-normalization>=0.14.0\n",
            "  Downloading https://files.pythonhosted.org/packages/a4/0e/d1078df0494bac9ce1a67954e5380b6e7569668f0f3b50a9531c62c1fc4a/keras-layer-normalization-0.14.0.tar.gz\n",
            "Collecting keras-position-wise-feed-forward>=0.6.0\n",
            "  Downloading https://files.pythonhosted.org/packages/e3/59/f0faa1037c033059e7e9e7758e6c23b4d1c0772cd48de14c4b6fd4033ad5/keras-position-wise-feed-forward-0.6.0.tar.gz\n",
            "Collecting keras-embed-sim>=0.8.0\n",
            "  Downloading https://files.pythonhosted.org/packages/57/ef/61a1e39082c9e1834a2d09261d4a0b69f7c818b359216d4e1912b20b1c86/keras-embed-sim-0.8.0.tar.gz\n",
            "Requirement already satisfied: six in /usr/local/lib/python3.7/dist-packages (from h5py->Keras>=2.4.3->keras_bert) (1.15.0)\n",
            "Collecting keras-self-attention==0.46.0\n",
            "  Downloading https://files.pythonhosted.org/packages/15/6b/c804924a056955fa1f3ff767945187103cfc851ba9bd0fc5a6c6bc18e2eb/keras-self-attention-0.46.0.tar.gz\n",
            "Building wheels for collected packages: keras-bert, keras-transformer, keras-pos-embd, keras-multi-head, keras-layer-normalization, keras-position-wise-feed-forward, keras-embed-sim, keras-self-attention\n",
            "  Building wheel for keras-bert (setup.py) ... \u001b[?25l\u001b[?25hdone\n",
            "  Created wheel for keras-bert: filename=keras_bert-0.86.0-cp37-none-any.whl size=34144 sha256=6d7993e9406fcab42e97c574cac40093311ef8510cff2fc831b1b9aeb0b51833\n",
            "  Stored in directory: /root/.cache/pip/wheels/66/f0/b1/748128b58562fc9e31b907bb5e2ab6a35eb37695e83911236b\n",
            "  Building wheel for keras-transformer (setup.py) ... \u001b[?25l\u001b[?25hdone\n",
            "  Created wheel for keras-transformer: filename=keras_transformer-0.38.0-cp37-none-any.whl size=12942 sha256=158a5fb566c7cd14fbbb4081cd8d162a6d85df5d8399d9664e387580e102bbbe\n",
            "  Stored in directory: /root/.cache/pip/wheels/e5/fb/3a/37b2b9326c799aa010ae46a04ddb04f320d8c77c0b7e837f4e\n",
            "  Building wheel for keras-pos-embd (setup.py) ... \u001b[?25l\u001b[?25hdone\n",
            "  Created wheel for keras-pos-embd: filename=keras_pos_embd-0.11.0-cp37-none-any.whl size=7554 sha256=db5d06a63a0e3b875fcc65e513c4d7a2371a4f431f84504fc4836b44f63424ec\n",
            "  Stored in directory: /root/.cache/pip/wheels/5b/a1/a0/ce6b1d49ba1a9a76f592e70cf297b05c96bc9f418146761032\n",
            "  Building wheel for keras-multi-head (setup.py) ... \u001b[?25l\u001b[?25hdone\n",
            "  Created wheel for keras-multi-head: filename=keras_multi_head-0.27.0-cp37-none-any.whl size=15611 sha256=536c85b60439ac1449a3839a0a7200c08dbf3673239a290f01a34cdaf57a66c7\n",
            "  Stored in directory: /root/.cache/pip/wheels/b5/b4/49/0a0c27dcb93c13af02fea254ff51d1a43a924dd4e5b7a7164d\n",
            "  Building wheel for keras-layer-normalization (setup.py) ... \u001b[?25l\u001b[?25hdone\n",
            "  Created wheel for keras-layer-normalization: filename=keras_layer_normalization-0.14.0-cp37-none-any.whl size=5269 sha256=75c692d3c135a500f1f32c285c43f10dfff097ee41d0d1a19309102074015d0c\n",
            "  Stored in directory: /root/.cache/pip/wheels/54/80/22/a638a7d406fd155e507aa33d703e3fa2612b9eb7bb4f4fe667\n",
            "  Building wheel for keras-position-wise-feed-forward (setup.py) ... \u001b[?25l\u001b[?25hdone\n",
            "  Created wheel for keras-position-wise-feed-forward: filename=keras_position_wise_feed_forward-0.6.0-cp37-none-any.whl size=5623 sha256=4075be7aa9b12720218fb22f6cc28686ade0c009ea7f17ba1d3361eec2f967fa\n",
            "  Stored in directory: /root/.cache/pip/wheels/39/e2/e2/3514fef126a00574b13bc0b9e23891800158df3a3c19c96e3b\n",
            "  Building wheel for keras-embed-sim (setup.py) ... \u001b[?25l\u001b[?25hdone\n",
            "  Created wheel for keras-embed-sim: filename=keras_embed_sim-0.8.0-cp37-none-any.whl size=4558 sha256=791d3062c3dcac3c0b009224223c75049f9ab9f9d462f2f3a800f1c7ba29c2e4\n",
            "  Stored in directory: /root/.cache/pip/wheels/49/45/8b/c111f6cc8bec253e984677de73a6f4f5d2f1649f42aac191c8\n",
            "  Building wheel for keras-self-attention (setup.py) ... \u001b[?25l\u001b[?25hdone\n",
            "  Created wheel for keras-self-attention: filename=keras_self_attention-0.46.0-cp37-none-any.whl size=17278 sha256=af55cfb11eb2de369bac6eee58b5296a338f151e64fd1c5ced11df9d1ec69840\n",
            "  Stored in directory: /root/.cache/pip/wheels/d2/2e/80/fec4c05eb23c8e13b790e26d207d6e0ffe8013fad8c6bdd4d2\n",
            "Successfully built keras-bert keras-transformer keras-pos-embd keras-multi-head keras-layer-normalization keras-position-wise-feed-forward keras-embed-sim keras-self-attention\n",
            "Installing collected packages: keras-pos-embd, keras-self-attention, keras-multi-head, keras-layer-normalization, keras-position-wise-feed-forward, keras-embed-sim, keras-transformer, keras-bert\n",
            "Successfully installed keras-bert-0.86.0 keras-embed-sim-0.8.0 keras-layer-normalization-0.14.0 keras-multi-head-0.27.0 keras-pos-embd-0.11.0 keras-position-wise-feed-forward-0.6.0 keras-self-attention-0.46.0 keras-transformer-0.38.0\n"
          ],
          "name": "stdout"
        }
      ]
    },
    {
      "cell_type": "code",
      "metadata": {
        "colab": {
          "base_uri": "https://localhost:8080/"
        },
        "id": "b-242AxGirS4",
        "outputId": "d46e3f75-865c-4328-c22f-87a124bcb6a0"
      },
      "source": [
        "!pip install transformers"
      ],
      "execution_count": 21,
      "outputs": [
        {
          "output_type": "stream",
          "text": [
            "Collecting transformers\n",
            "\u001b[?25l  Downloading https://files.pythonhosted.org/packages/f9/54/5ca07ec9569d2f232f3166de5457b63943882f7950ddfcc887732fc7fb23/transformers-4.3.3-py3-none-any.whl (1.9MB)\n",
            "\u001b[K     |████████████████████████████████| 1.9MB 18.3MB/s \n",
            "\u001b[?25hRequirement already satisfied: regex!=2019.12.17 in /usr/local/lib/python3.7/dist-packages (from transformers) (2019.12.20)\n",
            "Collecting sacremoses\n",
            "\u001b[?25l  Downloading https://files.pythonhosted.org/packages/7d/34/09d19aff26edcc8eb2a01bed8e98f13a1537005d31e95233fd48216eed10/sacremoses-0.0.43.tar.gz (883kB)\n",
            "\u001b[K     |████████████████████████████████| 890kB 53.6MB/s \n",
            "\u001b[?25hRequirement already satisfied: requests in /usr/local/lib/python3.7/dist-packages (from transformers) (2.23.0)\n",
            "Requirement already satisfied: filelock in /usr/local/lib/python3.7/dist-packages (from transformers) (3.0.12)\n",
            "Collecting tokenizers<0.11,>=0.10.1\n",
            "\u001b[?25l  Downloading https://files.pythonhosted.org/packages/71/23/2ddc317b2121117bf34dd00f5b0de194158f2a44ee2bf5e47c7166878a97/tokenizers-0.10.1-cp37-cp37m-manylinux2010_x86_64.whl (3.2MB)\n",
            "\u001b[K     |████████████████████████████████| 3.2MB 49.9MB/s \n",
            "\u001b[?25hRequirement already satisfied: packaging in /usr/local/lib/python3.7/dist-packages (from transformers) (20.9)\n",
            "Requirement already satisfied: importlib-metadata; python_version < \"3.8\" in /usr/local/lib/python3.7/dist-packages (from transformers) (3.7.0)\n",
            "Requirement already satisfied: numpy>=1.17 in /usr/local/lib/python3.7/dist-packages (from transformers) (1.19.5)\n",
            "Requirement already satisfied: tqdm>=4.27 in /usr/local/lib/python3.7/dist-packages (from transformers) (4.41.1)\n",
            "Requirement already satisfied: six in /usr/local/lib/python3.7/dist-packages (from sacremoses->transformers) (1.15.0)\n",
            "Requirement already satisfied: click in /usr/local/lib/python3.7/dist-packages (from sacremoses->transformers) (7.1.2)\n",
            "Requirement already satisfied: joblib in /usr/local/lib/python3.7/dist-packages (from sacremoses->transformers) (1.0.1)\n",
            "Requirement already satisfied: idna<3,>=2.5 in /usr/local/lib/python3.7/dist-packages (from requests->transformers) (2.10)\n",
            "Requirement already satisfied: urllib3!=1.25.0,!=1.25.1,<1.26,>=1.21.1 in /usr/local/lib/python3.7/dist-packages (from requests->transformers) (1.24.3)\n",
            "Requirement already satisfied: certifi>=2017.4.17 in /usr/local/lib/python3.7/dist-packages (from requests->transformers) (2020.12.5)\n",
            "Requirement already satisfied: chardet<4,>=3.0.2 in /usr/local/lib/python3.7/dist-packages (from requests->transformers) (3.0.4)\n",
            "Requirement already satisfied: pyparsing>=2.0.2 in /usr/local/lib/python3.7/dist-packages (from packaging->transformers) (2.4.7)\n",
            "Requirement already satisfied: typing-extensions>=3.6.4; python_version < \"3.8\" in /usr/local/lib/python3.7/dist-packages (from importlib-metadata; python_version < \"3.8\"->transformers) (3.7.4.3)\n",
            "Requirement already satisfied: zipp>=0.5 in /usr/local/lib/python3.7/dist-packages (from importlib-metadata; python_version < \"3.8\"->transformers) (3.4.0)\n",
            "Building wheels for collected packages: sacremoses\n",
            "  Building wheel for sacremoses (setup.py) ... \u001b[?25l\u001b[?25hdone\n",
            "  Created wheel for sacremoses: filename=sacremoses-0.0.43-cp37-none-any.whl size=893262 sha256=9ca491df19180888e827ea5ab01ffd80b6e2c533a8dcf051497f3dca604f7e4e\n",
            "  Stored in directory: /root/.cache/pip/wheels/29/3c/fd/7ce5c3f0666dab31a50123635e6fb5e19ceb42ce38d4e58f45\n",
            "Successfully built sacremoses\n",
            "Installing collected packages: sacremoses, tokenizers, transformers\n",
            "Successfully installed sacremoses-0.0.43 tokenizers-0.10.1 transformers-4.3.3\n"
          ],
          "name": "stdout"
        }
      ]
    },
    {
      "cell_type": "code",
      "metadata": {
        "id": "XZv4jS-mif8w"
      },
      "source": [
        "from keras_bert import load_trained_model_from_checkpoint\r\n",
        "from transformers import BertTokenizer"
      ],
      "execution_count": 22,
      "outputs": []
    },
    {
      "cell_type": "code",
      "metadata": {
        "colab": {
          "base_uri": "https://localhost:8080/"
        },
        "id": "0_rqKi4_fbo_",
        "outputId": "e4404924-aaab-417d-98b0-8dfae9b3b051"
      },
      "source": [
        "bert_model = 'uncased_L-12_H-768_A-12'\r\n",
        "tokenizer = BertTokenizer.from_pretrained('uncased_L-12_H-768_A-12/vocab.txt', do_lower_case=True) #load wocabulary\r\n",
        "model = load_trained_model_from_checkpoint('uncased_L-12_H-768_A-12/bert_config.json', 'uncased_L-12_H-768_A-12/bert_model.ckpt')"
      ],
      "execution_count": 23,
      "outputs": [
        {
          "output_type": "stream",
          "text": [
            "Calling BertTokenizer.from_pretrained() with the path to a single file or url is deprecated\n"
          ],
          "name": "stderr"
        }
      ]
    },
    {
      "cell_type": "code",
      "metadata": {
        "id": "gPAGn4ZAfbuK"
      },
      "source": [
        "def get_vectors(tokenizer, dataframe, col_name):\r\n",
        "    tokenize = lambda sentence: tokenizer.encode_plus(sentence, max_length=512, padding='max_length', truncation=True) #add [CSL/SEP]\r\n",
        "    dataframe['tokens'] = dataframe[col_name].map(tokenize)\r\n",
        "\r\n",
        "    #keys\r\n",
        "    dataframe['input_ids'] = dataframe['tokens'].map(lambda x: x['input_ids'])\r\n",
        "    dataframe['token_type_ids'] = dataframe['tokens'].map(lambda x: x['token_type_ids'])\r\n",
        "    \r\n",
        "    #zmienia liste w liscie na macierz\r\n",
        "    input_ids = np.stack(dataframe['input_ids']) \r\n",
        "    token_type_ids = np.stack(dataframe['token_type_ids'])\r\n",
        "\r\n",
        "    vectors = {'input_ids': input_ids, 'token_type_ids': token_type_ids}\r\n",
        "    return vectors"
      ],
      "execution_count": 36,
      "outputs": []
    },
    {
      "cell_type": "code",
      "metadata": {
        "id": "UQGaDFvefb0A"
      },
      "source": [
        "def bert_predict_in_batches(vectors, num_batches, output_shape):\r\n",
        "\r\n",
        "  vector_input_ids_batches = np.array_split(vectors['input_ids'], num_batches)\r\n",
        "  vector_token_type_ids_batches = np.array_split(vectors['token_type_ids'], num_batches)\r\n",
        "  \r\n",
        "\r\n",
        "  X = np.array([]).reshape((0, output_shape))\r\n",
        "  model = load_trained_model_from_checkpoint('uncased_L-12_H-768_A-12/bert_config.json', 'uncased_L-12_H-768_A-12/bert_model.ckpt', training=False)\r\n",
        "  input_vectors = zip(vector_input_ids_batches, vector_token_type_ids_batches)\r\n",
        "  for input_ids, token_type_ids in input_vectors:\r\n",
        "    all_vectors = (input_ids, token_type_ids)\r\n",
        "    predictions = model.predict(all_vectors, verbose=1)\r\n",
        "\r\n",
        "    X_batch = predictions[:, 0, :]\r\n",
        "    print('current predictions shape: ', X_batch.shape)\r\n",
        "    X = np.concatenate([X, X_batch])\r\n",
        "    print('all predictions shape: ', X.shape)\r\n",
        "\r\n",
        "  return X"
      ],
      "execution_count": 49,
      "outputs": []
    },
    {
      "cell_type": "code",
      "metadata": {
        "id": "blQLZf_Lfb4V"
      },
      "source": [
        "bert_vectors = get_vectors(tokenizer, test2, 'text_aprep')"
      ],
      "execution_count": 50,
      "outputs": []
    },
    {
      "cell_type": "code",
      "metadata": {
        "id": "LQ2_bQZlf6dz"
      },
      "source": [
        "bert_output_shape = model.layers[-1].output_shape[2]"
      ],
      "execution_count": 51,
      "outputs": []
    },
    {
      "cell_type": "code",
      "metadata": {
        "colab": {
          "base_uri": "https://localhost:8080/"
        },
        "id": "CEnZoSPZf6s2",
        "outputId": "e8013723-42c4-4e06-a7f4-ef7c9c9f84ea"
      },
      "source": [
        "test_X_text_aprep = bert_predict_in_batches(bert_vectors, 10, bert_output_shape)\r\n",
        "np.save('test_X_text_aprep.npy', test_X_text_aprep)"
      ],
      "execution_count": 52,
      "outputs": [
        {
          "output_type": "stream",
          "text": [
            "11/11 [==============================] - 20s 1s/step\n",
            "current predictions shape:  (327, 768)\n",
            "all predictions shape:  (327, 768)\n",
            "11/11 [==============================] - 15s 1s/step\n",
            "current predictions shape:  (327, 768)\n",
            "all predictions shape:  (654, 768)\n",
            "11/11 [==============================] - 16s 1s/step\n",
            "current predictions shape:  (327, 768)\n",
            "all predictions shape:  (981, 768)\n",
            "11/11 [==============================] - 16s 1s/step\n",
            "current predictions shape:  (326, 768)\n",
            "all predictions shape:  (1307, 768)\n",
            "11/11 [==============================] - 15s 1s/step\n",
            "current predictions shape:  (326, 768)\n",
            "all predictions shape:  (1633, 768)\n",
            "11/11 [==============================] - 15s 1s/step\n",
            "current predictions shape:  (326, 768)\n",
            "all predictions shape:  (1959, 768)\n",
            "11/11 [==============================] - 15s 1s/step\n",
            "current predictions shape:  (326, 768)\n",
            "all predictions shape:  (2285, 768)\n",
            "11/11 [==============================] - 15s 1s/step\n",
            "current predictions shape:  (326, 768)\n",
            "all predictions shape:  (2611, 768)\n",
            "11/11 [==============================] - 15s 1s/step\n",
            "current predictions shape:  (326, 768)\n",
            "all predictions shape:  (2937, 768)\n",
            "11/11 [==============================] - 15s 1s/step\n",
            "current predictions shape:  (326, 768)\n",
            "all predictions shape:  (3263, 768)\n"
          ],
          "name": "stdout"
        }
      ]
    },
    {
      "cell_type": "code",
      "metadata": {
        "colab": {
          "base_uri": "https://localhost:8080/",
          "height": 312
        },
        "id": "mTUvcgrLf6zV",
        "outputId": "808010d7-ce68-4327-ce87-cf48d06845cc"
      },
      "source": [
        "import catboost as ctb\r\n",
        "from scikitplot.estimators import plot_learning_curve\r\n",
        "X_train = np.load(\"train_X_text_aprep.npy\")\r\n",
        "X_test = np.load(\"test_X_text_aprep.npy\")\r\n",
        "\r\n",
        "y_train = train2['target'].values\r\n",
        "\r\n",
        "model = ctb.CatBoostClassifier(max_depth=5, n_estimators=100, verbose=0, random_state=0, custom_metric='AUC')\r\n",
        "model.fit(X_train, y_train)\r\n",
        "plot_learning_curve(model, X_train, y_train, cv=3, random_state=2019, shuffle=True)"
      ],
      "execution_count": 55,
      "outputs": [
        {
          "output_type": "execute_result",
          "data": {
            "text/plain": [
              "<matplotlib.axes._subplots.AxesSubplot at 0x7fef888467d0>"
            ]
          },
          "metadata": {
            "tags": []
          },
          "execution_count": 55
        },
        {
          "output_type": "display_data",
          "data": {
            "image/png": "[encoded data removed]",
            "text/plain": [
              "<Figure size 432x288 with 1 Axes>"
            ]
          },
          "metadata": {
            "tags": [],
            "needs_background": "light"
          }
        }
      ]
    },
    {
      "cell_type": "code",
      "metadata": {
        "colab": {
          "base_uri": "https://localhost:8080/",
          "height": 669
        },
        "id": "tUMKlqoSf65z",
        "outputId": "8442e079-74ce-45c0-ac83-a554abd66484"
      },
      "source": [
        "\r\n",
        "test2['target'] = model.predict(X_test).astype('int32')\r\n",
        "test2[[ 'id', 'target'] ].sample(20)"
      ],
      "execution_count": 56,
      "outputs": [
        {
          "output_type": "execute_result",
          "data": {
            "text/html": [
              "<div>\n",
              "<style scoped>\n",
              "    .dataframe tbody tr th:only-of-type {\n",
              "        vertical-align: middle;\n",
              "    }\n",
              "\n",
              "    .dataframe tbody tr th {\n",
              "        vertical-align: top;\n",
              "    }\n",
              "\n",
              "    .dataframe thead th {\n",
              "        text-align: right;\n",
              "    }\n",
              "</style>\n",
              "<table border=\"1\" class=\"dataframe\">\n",
              "  <thead>\n",
              "    <tr style=\"text-align: right;\">\n",
              "      <th></th>\n",
              "      <th>id</th>\n",
              "      <th>target</th>\n",
              "    </tr>\n",
              "  </thead>\n",
              "  <tbody>\n",
              "    <tr>\n",
              "      <th>245</th>\n",
              "      <td>785</td>\n",
              "      <td>0</td>\n",
              "    </tr>\n",
              "    <tr>\n",
              "      <th>2322</th>\n",
              "      <td>7776</td>\n",
              "      <td>0</td>\n",
              "    </tr>\n",
              "    <tr>\n",
              "      <th>810</th>\n",
              "      <td>2662</td>\n",
              "      <td>0</td>\n",
              "    </tr>\n",
              "    <tr>\n",
              "      <th>1015</th>\n",
              "      <td>3333</td>\n",
              "      <td>0</td>\n",
              "    </tr>\n",
              "    <tr>\n",
              "      <th>1613</th>\n",
              "      <td>5435</td>\n",
              "      <td>1</td>\n",
              "    </tr>\n",
              "    <tr>\n",
              "      <th>2811</th>\n",
              "      <td>9349</td>\n",
              "      <td>1</td>\n",
              "    </tr>\n",
              "    <tr>\n",
              "      <th>61</th>\n",
              "      <td>202</td>\n",
              "      <td>0</td>\n",
              "    </tr>\n",
              "    <tr>\n",
              "      <th>436</th>\n",
              "      <td>1413</td>\n",
              "      <td>0</td>\n",
              "    </tr>\n",
              "    <tr>\n",
              "      <th>794</th>\n",
              "      <td>2613</td>\n",
              "      <td>0</td>\n",
              "    </tr>\n",
              "    <tr>\n",
              "      <th>1042</th>\n",
              "      <td>3424</td>\n",
              "      <td>0</td>\n",
              "    </tr>\n",
              "    <tr>\n",
              "      <th>2707</th>\n",
              "      <td>9015</td>\n",
              "      <td>0</td>\n",
              "    </tr>\n",
              "    <tr>\n",
              "      <th>1220</th>\n",
              "      <td>4004</td>\n",
              "      <td>0</td>\n",
              "    </tr>\n",
              "    <tr>\n",
              "      <th>3131</th>\n",
              "      <td>10388</td>\n",
              "      <td>0</td>\n",
              "    </tr>\n",
              "    <tr>\n",
              "      <th>59</th>\n",
              "      <td>192</td>\n",
              "      <td>0</td>\n",
              "    </tr>\n",
              "    <tr>\n",
              "      <th>872</th>\n",
              "      <td>2862</td>\n",
              "      <td>1</td>\n",
              "    </tr>\n",
              "    <tr>\n",
              "      <th>1922</th>\n",
              "      <td>6483</td>\n",
              "      <td>1</td>\n",
              "    </tr>\n",
              "    <tr>\n",
              "      <th>290</th>\n",
              "      <td>937</td>\n",
              "      <td>0</td>\n",
              "    </tr>\n",
              "    <tr>\n",
              "      <th>2459</th>\n",
              "      <td>8207</td>\n",
              "      <td>0</td>\n",
              "    </tr>\n",
              "    <tr>\n",
              "      <th>2944</th>\n",
              "      <td>9748</td>\n",
              "      <td>1</td>\n",
              "    </tr>\n",
              "    <tr>\n",
              "      <th>381</th>\n",
              "      <td>1233</td>\n",
              "      <td>1</td>\n",
              "    </tr>\n",
              "  </tbody>\n",
              "</table>\n",
              "</div>"
            ],
            "text/plain": [
              "         id  target\n",
              "245     785       0\n",
              "2322   7776       0\n",
              "810    2662       0\n",
              "1015   3333       0\n",
              "1613   5435       1\n",
              "2811   9349       1\n",
              "61      202       0\n",
              "436    1413       0\n",
              "794    2613       0\n",
              "1042   3424       0\n",
              "2707   9015       0\n",
              "1220   4004       0\n",
              "3131  10388       0\n",
              "59      192       0\n",
              "872    2862       1\n",
              "1922   6483       1\n",
              "290     937       0\n",
              "2459   8207       0\n",
              "2944   9748       1\n",
              "381    1233       1"
            ]
          },
          "metadata": {
            "tags": []
          },
          "execution_count": 56
        }
      ]
    },
    {
      "cell_type": "code",
      "metadata": {
        "id": "7P_gncSf1a49"
      },
      "source": [
        "test2[ ['id', 'target'] ].to_csv('bert_aprep.csv', index=False)"
      ],
      "execution_count": 57,
      "outputs": []
    },
    {
      "cell_type": "markdown",
      "metadata": {
        "id": "YD0NQ3t1kqza"
      },
      "source": [
        "Kaggle score: 0.77597"
      ]
    },
    {
      "cell_type": "code",
      "metadata": {
        "colab": {
          "base_uri": "https://localhost:8080/",
          "height": 312
        },
        "id": "Mt_oVETgkR5r",
        "outputId": "2058fa3c-3962-4390-a147-5f2bac8ba788"
      },
      "source": [
        "import catboost as ctb\r\n",
        "from scikitplot.estimators import plot_learning_curve\r\n",
        "X_train = np.load(\"train_X_text_aprep.npy\")\r\n",
        "X_test = np.load(\"test_X_text_aprep.npy\")\r\n",
        "\r\n",
        "y_train = train2['target'].values\r\n",
        "\r\n",
        "model = ctb.CatBoostClassifier(max_depth=8, n_estimators=200, verbose=0, random_state=0, custom_metric='AUC')\r\n",
        "model.fit(X_train, y_train)\r\n",
        "plot_learning_curve(model, X_train, y_train, cv=3, random_state=2019, shuffle=True)"
      ],
      "execution_count": 58,
      "outputs": [
        {
          "output_type": "execute_result",
          "data": {
            "text/plain": [
              "<matplotlib.axes._subplots.AxesSubplot at 0x7fef887eb610>"
            ]
          },
          "metadata": {
            "tags": []
          },
          "execution_count": 58
        },
        {
          "output_type": "display_data",
          "data": {
            "image/png": "[encoded data removed]",
            "text/plain": [
              "<Figure size 432x288 with 1 Axes>"
            ]
          },
          "metadata": {
            "tags": [],
            "needs_background": "light"
          }
        }
      ]
    },
    {
      "cell_type": "code",
      "metadata": {
        "id": "7HYnKF1mlpkR"
      },
      "source": [
        "test2['target'] = model.predict(X_test).astype('int32')\r\n",
        "test2[ ['id', 'target'] ].to_csv('bert_aprep2.csv', index=False)"
      ],
      "execution_count": 60,
      "outputs": []
    },
    {
      "cell_type": "markdown",
      "metadata": {
        "id": "H5CEFHRluFHu"
      },
      "source": [
        "Kaggle score: 0.78486"
      ]
    },
    {
      "cell_type": "markdown",
      "metadata": {
        "id": "3l69n0zkufm3"
      },
      "source": [
        "## **Hero+Bert**"
      ]
    },
    {
      "cell_type": "code",
      "metadata": {
        "id": "U3Ji-1IMtUNv"
      },
      "source": [
        "!pip install texthero"
      ],
      "execution_count": null,
      "outputs": []
    },
    {
      "cell_type": "code",
      "metadata": {
        "colab": {
          "base_uri": "https://localhost:8080/"
        },
        "id": "wx7QT4NhuXkP",
        "outputId": "f5488158-0782-49b8-c92b-eb7bd6a8590f"
      },
      "source": [
        "import texthero as hero"
      ],
      "execution_count": 62,
      "outputs": [
        {
          "output_type": "stream",
          "text": [
            "[nltk_data] Downloading package stopwords to /root/nltk_data...\n",
            "[nltk_data]   Unzipping corpora/stopwords.zip.\n"
          ],
          "name": "stderr"
        }
      ]
    },
    {
      "cell_type": "code",
      "metadata": {
        "id": "Fkcv8br7udrD"
      },
      "source": [
        "train2[\"text_clean\"] = hero.clean(train2[\"text_aprep\"])\r\n",
        "test2[\"text_clean\"] = hero.clean(test2[\"text_aprep\"])"
      ],
      "execution_count": 63,
      "outputs": []
    },
    {
      "cell_type": "code",
      "metadata": {
        "id": "hmXt-uUQvBWq"
      },
      "source": [
        "train2.head()"
      ],
      "execution_count": null,
      "outputs": []
    },
    {
      "cell_type": "code",
      "metadata": {
        "colab": {
          "base_uri": "https://localhost:8080/"
        },
        "id": "Wrtw9dcAvq0x",
        "outputId": "5e952a6f-0413-4b9f-ac68-6388fb56d57c"
      },
      "source": [
        "bert_model = 'uncased_L-12_H-768_A-12'\r\n",
        "tokenizer = BertTokenizer.from_pretrained('uncased_L-12_H-768_A-12/vocab.txt', do_lower_case=True) #load wocabulary\r\n",
        "model = load_trained_model_from_checkpoint('uncased_L-12_H-768_A-12/bert_config.json', 'uncased_L-12_H-768_A-12/bert_model.ckpt')"
      ],
      "execution_count": 67,
      "outputs": [
        {
          "output_type": "stream",
          "text": [
            "Calling BertTokenizer.from_pretrained() with the path to a single file or url is deprecated\n"
          ],
          "name": "stderr"
        }
      ]
    },
    {
      "cell_type": "code",
      "metadata": {
        "id": "h7YUsfEXvN3p"
      },
      "source": [
        "bert_vectors = get_vectors(tokenizer, train2, 'text_clean')"
      ],
      "execution_count": 71,
      "outputs": []
    },
    {
      "cell_type": "code",
      "metadata": {
        "id": "Kwefh7q-veO3"
      },
      "source": [
        "bert_output_shape = model.layers[-1].output_shape[2]"
      ],
      "execution_count": 72,
      "outputs": []
    },
    {
      "cell_type": "code",
      "metadata": {
        "colab": {
          "base_uri": "https://localhost:8080/"
        },
        "id": "4EMe1Gg-vjE_",
        "outputId": "65f34f7b-1b6c-4693-98c9-87d5522f07f7"
      },
      "source": [
        "train_X_text_clean = bert_predict_in_batches(bert_vectors, 10, bert_output_shape)\r\n",
        "np.save('train_X_text_clean.npy', train_X_text_clean)"
      ],
      "execution_count": 73,
      "outputs": [
        {
          "output_type": "stream",
          "text": [
            "24/24 [==============================] - 37s 1s/step\n",
            "current predictions shape:  (762, 768)\n",
            "all predictions shape:  (762, 768)\n",
            "24/24 [==============================] - 34s 1s/step\n",
            "current predictions shape:  (762, 768)\n",
            "all predictions shape:  (1524, 768)\n",
            "24/24 [==============================] - 34s 1s/step\n",
            "current predictions shape:  (762, 768)\n",
            "all predictions shape:  (2286, 768)\n",
            "24/24 [==============================] - 35s 1s/step\n",
            "current predictions shape:  (761, 768)\n",
            "all predictions shape:  (3047, 768)\n",
            "24/24 [==============================] - 35s 1s/step\n",
            "current predictions shape:  (761, 768)\n",
            "all predictions shape:  (3808, 768)\n",
            "24/24 [==============================] - 35s 1s/step\n",
            "current predictions shape:  (761, 768)\n",
            "all predictions shape:  (4569, 768)\n",
            "24/24 [==============================] - 35s 1s/step\n",
            "current predictions shape:  (761, 768)\n",
            "all predictions shape:  (5330, 768)\n",
            "24/24 [==============================] - 35s 1s/step\n",
            "current predictions shape:  (761, 768)\n",
            "all predictions shape:  (6091, 768)\n",
            "24/24 [==============================] - 36s 1s/step\n",
            "current predictions shape:  (761, 768)\n",
            "all predictions shape:  (6852, 768)\n",
            "24/24 [==============================] - 36s 1s/step\n",
            "current predictions shape:  (761, 768)\n",
            "all predictions shape:  (7613, 768)\n"
          ],
          "name": "stdout"
        }
      ]
    },
    {
      "cell_type": "code",
      "metadata": {
        "colab": {
          "base_uri": "https://localhost:8080/",
          "height": 312
        },
        "id": "rwppKbRHvzyG",
        "outputId": "a4c59e57-93db-48e1-806b-594982d52286"
      },
      "source": [
        "import catboost as ctb\r\n",
        "from scikitplot.estimators import plot_learning_curve\r\n",
        "X_train = np.load(\"train_X_text_clean.npy\")\r\n",
        "X_test = np.load(\"test_X_text_clean.npy\")\r\n",
        "\r\n",
        "y_train = train2['target'].values\r\n",
        "\r\n",
        "model = ctb.CatBoostClassifier(max_depth=8, n_estimators=200, verbose=0, random_state=0, custom_metric='AUC')\r\n",
        "model.fit(X_train, y_train)\r\n",
        "plot_learning_curve(model, X_train, y_train, cv=3, random_state=2019, shuffle=True)"
      ],
      "execution_count": 74,
      "outputs": [
        {
          "output_type": "execute_result",
          "data": {
            "text/plain": [
              "<matplotlib.axes._subplots.AxesSubplot at 0x7ff0b196d050>"
            ]
          },
          "metadata": {
            "tags": []
          },
          "execution_count": 74
        },
        {
          "output_type": "display_data",
          "data": {
            "image/png": "[encoded data removed]",
            "text/plain": [
              "<Figure size 432x288 with 1 Axes>"
            ]
          },
          "metadata": {
            "tags": [],
            "needs_background": "light"
          }
        }
      ]
    },
    {
      "cell_type": "code",
      "metadata": {
        "id": "gPZwz5J3wltU"
      },
      "source": [
        "test2['target'] = model.predict(X_test).astype('int32')\r\n",
        "test2[ ['id', 'target'] ].to_csv('bert_clean.csv', index=False)"
      ],
      "execution_count": 75,
      "outputs": []
    },
    {
      "cell_type": "markdown",
      "metadata": {
        "id": "CtEWvZ4X7AaP"
      },
      "source": [
        "Kaggle score: 0.78669"
      ]
    },
    {
      "cell_type": "code",
      "metadata": {
        "id": "T1AIU3pd5wOG"
      },
      "source": [
        ""
      ],
      "execution_count": null,
      "outputs": []
    }
  ]
}